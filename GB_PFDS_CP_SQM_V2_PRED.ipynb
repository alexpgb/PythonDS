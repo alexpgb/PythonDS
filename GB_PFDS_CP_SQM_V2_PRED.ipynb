{
 "cells": [
  {
   "cell_type": "markdown",
   "id": "34234fde",
   "metadata": {},
   "source": []
  },
  {
   "cell_type": "code",
   "execution_count": 1,
   "id": "99a40e2e",
   "metadata": {},
   "outputs": [],
   "source": [
    "import numpy as np\n",
    "import pandas as pd\n",
    "import random"
   ]
  },
  {
   "cell_type": "code",
   "execution_count": 2,
   "id": "59b4386a",
   "metadata": {},
   "outputs": [],
   "source": [
    "from sklearn.model_selection import train_test_split, cross_val_score\n",
    "from sklearn.preprocessing import StandardScaler, MinMaxScaler, RobustScaler\n",
    "from sklearn.ensemble import RandomForestRegressor\n",
    "from sklearn.metrics import r2_score as r2\n",
    "from sklearn.model_selection import KFold, GridSearchCV\n",
    "from sklearn.neighbors import KNeighborsClassifier\n",
    "from sklearn.ensemble import StackingRegressor, VotingRegressor, BaggingRegressor, GradientBoostingRegressor\n",
    "\n",
    "from datetime import datetime\n",
    "\n",
    "import matplotlib\n",
    "import matplotlib.pyplot as plt\n",
    "import seaborn as sns\n",
    "# Позволяет отображать в блокнотах графики matplotlib\n",
    "%matplotlib inline "
   ]
  },
  {
   "cell_type": "code",
   "execution_count": 3,
   "id": "120793bf",
   "metadata": {},
   "outputs": [],
   "source": [
    "matplotlib.rcParams.update({'font.size':14})"
   ]
  },
  {
   "cell_type": "code",
   "execution_count": 4,
   "id": "095e0572",
   "metadata": {},
   "outputs": [],
   "source": [
    "def evaluate_preds(train_true_values, train_pred_values, test_true_values, test_pred_values):\n",
    "    print(\"Train R2:\\t\" + str(round(r2(train_true_values, train_pred_values), 3)))\n",
    "    print(\"Test R2:\\t\" + str(round(r2(test_true_values, test_pred_values), 3)))\n",
    "    \n",
    "    plt.figure(figsize=(18,10))\n",
    "    \n",
    "    plt.subplot(121)\n",
    "    sns.scatterplot(x=train_pred_values, y=train_true_values)\n",
    "    plt.xlabel('Predicted values')\n",
    "    plt.ylabel('True values')\n",
    "    plt.title('Train sample prediction')\n",
    "    \n",
    "    plt.subplot(122)\n",
    "    sns.scatterplot(x=test_pred_values, y=test_true_values)\n",
    "    plt.xlabel('Predicted values')\n",
    "    plt.ylabel('True values')\n",
    "    plt.title('Test sample prediction')\n",
    "\n",
    "    plt.show()"
   ]
  },
  {
   "cell_type": "code",
   "execution_count": 5,
   "id": "84853163",
   "metadata": {},
   "outputs": [],
   "source": [
    "import warnings\n",
    "warnings.filterwarnings('ignore')"
   ]
  },
  {
   "cell_type": "code",
   "execution_count": 6,
   "id": "df98b6e4",
   "metadata": {},
   "outputs": [],
   "source": [
    "DS_TRAIN_ORIG_PATH = '../L10/train.csv'\n",
    "DS_TRAIN_PREP_PATH = '../L10/train_prep.csv'\n",
    "DS_SUBMIT_SAMPLE_PATH = '../L10/sample_submission.csv'\n",
    "DS_SUBMIT_PATH = '../L10/submit_base.csv'\n",
    "DS_TEST_ORIG_PATH = '../L10/test.csv'\n",
    "DS_TEST_PREP_PATH = '../L10/test_prep.csv'"
   ]
  },
  {
   "cell_type": "markdown",
   "id": "0b4812d3",
   "metadata": {},
   "source": [
    "Описание датасета:\n",
    "\n",
    "Id - идентификационный номер квартиры\n",
    "DistrictId - идентификационный номер района - категория\n",
    "Rooms - количество комнат\n",
    "Square - площадь\n",
    "LifeSquare - жилая площадь\n",
    "KitchenSquare - площадь кухни\n",
    "Floor - этаж                    - категория\n",
    "HouseFloor - количество этажей в доме   \n",
    "HouseYear - год постройки дома   \n",
    "Ecology_1, Ecology_2, Ecology_3 - экологические показатели местности\n",
    "Social_1, Social_2, Social_3 - социальные показатели местности\n",
    "Healthcare_1, Helthcare_2 - показатели местности, связанные с охраной здоровья\n",
    "Shops_1, Shops_2 - показатели, связанные с наличием магазинов, торговых центров\n",
    "Price - цена квартиры"
   ]
  },
  {
   "cell_type": "markdown",
   "id": "f78a75b6",
   "metadata": {},
   "source": [
    "## Программирование обработки данных"
   ]
  },
  {
   "cell_type": "code",
   "execution_count": 7,
   "id": "8190f76e",
   "metadata": {},
   "outputs": [],
   "source": [
    "square_valid_min = 16\n",
    "square_valid_max = 280\n",
    "priceSQM_valid_max = 8000\n",
    "priceSQM_valid_min = 800\n",
    "min_obj_num_in_group = 5\n",
    "rooms_valid_max = 5\n",
    "rooms_valid_min = 1\n",
    "one_room_square_valid_max = 50"
   ]
  },
  {
   "cell_type": "code",
   "execution_count": 8,
   "id": "315b2886",
   "metadata": {},
   "outputs": [],
   "source": [
    "class DataPreprocessing:\n",
    "    \n",
    "    def __init__(self):\n",
    "        self.medians = None\n",
    "        self.kitchen_square_quantile = None\n",
    "        self.median_room_square = None\n",
    "        self.median_price_sqm = None\n",
    "        self.df_med_RoomSquare_by_DI_HY = None\n",
    "        self.df_med_RoomSquare_by_HY = None\n",
    "        #self.col_for_HC1 = None\n",
    "        self.target_HC1 = None\n",
    "        #self.df_train_HC1 = None\n",
    "        #self.X_train_HC1 = None\n",
    "        #self.X_train_HC1 = None\n",
    "        #self.X_test_HC1 = None\n",
    "        self.scaler_HC1 = None\n",
    "        self.clf_HC1 = None       \n",
    "        self.col_for_scale_HC1 = None\n",
    "        self.df_test_HC1 = None\n",
    "        self.df_test_HC1_scaled = None\n",
    "        self.y_pred_HC1 = None\n",
    "\n",
    "    def fit(self, X):\n",
    "        X = X.copy()\n",
    "        # Расчет медиан\n",
    "        self.medians = X.median()\n",
    "        self.kitchen_square_quantile = X['KitchenSquare'].quantile(.975)\n",
    "        self.df_med_RoomSquare_by_DI_HY = X.loc[(X['Square'] > square_valid_min) & \\\n",
    "                                          (X['Square'] < square_valid_max) & \\\n",
    "                                          (X['Rooms'] > 0)]\\\n",
    "                                          .groupby(['DistrictId', 'HouseYear'], as_index=False).apply(self.med_room_square)\n",
    " \n",
    "        self.df_med_RoomSquare_by_DI_HY.rename(columns={'mean_room_square':'mean_room_square_by_DI_HY',\\\n",
    "                                        'median_room_square':'median_room_square_by_DI_HY',\\\n",
    "                                        'obj_num':'obj_num_by_DI_HY',\\\n",
    "                                        'median_PriceSQM':'median_PriceSQM_by_DI_HY'}, inplace=True) \n",
    "        \n",
    "        self.df_med_RoomSquare_by_HY = X.loc[(X['Square'] > square_valid_min) & \\\n",
    "                                          (X['Square'] < square_valid_max) & \\\n",
    "                                          (X['Rooms'] > 0)\n",
    "                                            ].groupby(['HouseYear'], as_index=False).apply(self.med_room_square)\n",
    "\n",
    "        self.df_med_RoomSquare_by_HY.rename(columns={'mean_room_square':'mean_room_square_by_HY',\\\n",
    "                                        'median_room_square':'median_room_square_by_HY',\\\n",
    "                                        'obj_num':'obj_num_by_HY',\\\n",
    "                                        'median_PriceSQM':'median_PriceSQM_by_HY'}, inplace=True) \n",
    "        \n",
    "        self.median_room_square = (X['Square'] / X['Rooms']).median()\n",
    "        self.median_price_sqm = X['PriceSQM'].median()\n",
    "\n",
    "        # подстрахуемся\n",
    "        self.df_med_RoomSquare_by_DI_HY.loc[self.df_med_RoomSquare_by_DI_HY['median_room_square_by_DI_HY'] == np.inf,\\\n",
    "                                            'median_room_square_by_DI_HY'] = self.median_room_square\n",
    "        \n",
    "        # HC_1 restore\n",
    "        col_for_HC1 = ['Social_1', 'Social_2', 'Social_3', 'Helthcare_2','Healthcare_1']\n",
    "        self.target_HC1 = 'Healthcare_1'\n",
    "        df_train_HC1 = X[col_for_HC1].copy()\n",
    "        df_train_HC1[self.target_HC1] = df_train_HC1[self.target_HC1].fillna(9999).astype('int')\n",
    "        \n",
    "        y_train_HC1 = df_train_HC1.loc[(df_train_HC1[self.target_HC1] != 9999), self.target_HC1]\n",
    "        X_train_HC1 = df_train_HC1.loc[(df_train_HC1[self.target_HC1] != 9999)].drop(self.target_HC1, axis=1)\n",
    "        \n",
    "        #X_test_HC1 = df_train_HC1.loc[(df_train_HC1[self.target_HC1] == 9999)].drop(self.target_HC1, axis=1)\n",
    "        self.scaler_HC1 = RobustScaler()\n",
    "        \n",
    "        self.col_for_scale_HC1 = ['Social_1', 'Social_2', 'Social_3', 'Helthcare_2']\n",
    "        X_train_HC1[self.col_for_scale_HC1] = self.scaler_HC1.fit_transform(X_train_HC1[self.col_for_scale_HC1])\n",
    "        y_train_HC1 = y_train_HC1.values\n",
    "        # применим метод KNN для восстановления HC_1\n",
    "        # опытным путем было установлено, что наилучше результаты даеет параметр n_neighbors=2.\n",
    "        self.clf_HC1 = KNeighborsClassifier(n_neighbors=2)\n",
    "        self.clf_HC1.fit(X_train_HC1, y_train_HC1)\n",
    "        \n",
    "    def transform(self, X, y=None):\n",
    "        \n",
    "        # Square restore        \n",
    "        l = ['mean_room_square_by_DI_HY', 'median_room_square_by_DI_HY', 'obj_num_by_DI_HY', 'median_PriceSQM_by_DI_HY',\\\n",
    "             'mean_room_square_by_HY', 'median_room_square_by_HY', 'obj_num_by_HY', 'median_PriceSQM_by_HY',\\\n",
    "             'Square_restored']\n",
    "        for i in l:\n",
    "            if i in X.columns:\n",
    "                X.drop(i, axis=1, inplace=True)\n",
    "        \n",
    "        X = X.merge(self.df_med_RoomSquare_by_DI_HY, on=['DistrictId', 'HouseYear'], how='left')\n",
    "        X = X.merge(self.df_med_RoomSquare_by_HY, on=['HouseYear'], how='left')\n",
    "\n",
    "        # если в рабочих данных есть объекты, которых не было в тренировочных по году и/или району заполним количество нулями\n",
    "        X.loc[X['median_room_square_by_HY'].isna(),'obj_num_by_HY'] = 0\n",
    "        X.loc[X['median_room_square_by_DI_HY'].isna(), 'obj_num_by_DI_HY'] = 0\n",
    "\n",
    "        # если в рабочем датасете не было данных, которые были в тренировочном заполним  медианой\n",
    "        X.loc[X['median_room_square_by_HY'].isna(), 'median_room_square_by_HY'] = self.median_room_square\n",
    "        X.loc[X['median_PriceSQM_by_HY'].isna(), 'median_PriceSQM_by_HY'] = self.median_price_sqm\n",
    "\n",
    "        # если в датасете не было данных по району, году, заполним медианными данными по году\n",
    "        X.loc[X['median_room_square_by_DI_HY'].isna(), 'median_PriceSQM_by_DI_HY'] = \\\n",
    "                                   X.loc[X['median_room_square_by_DI_HY'].isna(), 'median_PriceSQM_by_HY']\n",
    "\n",
    "        X.loc[X['median_room_square_by_DI_HY'].isna(), 'median_room_square_by_DI_HY'] = \\\n",
    "                                   X.loc[X['median_room_square_by_DI_HY'].isna(), 'median_room_square_by_HY']\n",
    "        \n",
    "        \n",
    "        #median_PriceSQM_by_HY self.median_price_sqm\n",
    "        #median_PriceSQM_by_DI_HY\n",
    "        #median_room_square_by_DI_HY\n",
    "        \n",
    "        X['Square_restored'] = 0\n",
    "        \n",
    "        # Т.к. модель работает ценой м.кв. нужно постараться хорошо обработать выбросы по полощади.\n",
    "        # Выбросами считаем S < 16 B S > 280.\n",
    "        # S < 20 S<LS - кривая and S  PriceSQM > 8000 Room > 0 - восстанавливаем по Room * (df_med_RoomSquare_by_DI_HY or df_med_RoomSquare_by_HY\n",
    "\n",
    "        X['Square_r'] = 0 # создадим колонку, куда будем записывать восстанавливаемую площадь.\n",
    "        \n",
    "        # если площадь маленькая и содержит ошибку неадекватная, восстановим площадь через среднюю площадь комнаты и число комнтат\n",
    "        cond_1= (X['Square'] < square_valid_min) & ((X['Square'] < X['LifeSquare']) | (1==1)) & (X['Rooms'] > 0)\n",
    "\n",
    "        # сначала заполним S для объектов с кривой площадью\n",
    "        X.loc[cond_1 & (X['obj_num_by_DI_HY'] >= min_obj_num_in_group), 'Square_r'] = \\\n",
    "                X.loc[cond_1 & (X['obj_num_by_DI_HY'] >= min_obj_num_in_group), 'Rooms'] * \\\n",
    "                X.loc[cond_1 & (X['obj_num_by_DI_HY'] >= min_obj_num_in_group), 'median_room_square_by_DI_HY']\n",
    "\n",
    "        # если не нашлсь комбинации района и города посчитаем среднюю площадь по году постройки\n",
    "        X.loc[(cond_1) & (X['obj_num_by_DI_HY'] < min_obj_num_in_group), 'Square_r'] = \\\n",
    "                X.loc[(cond_1) & (X['obj_num_by_DI_HY'] < min_obj_num_in_group), 'Rooms'] * \\\n",
    "                X.loc[(cond_1) & (X['obj_num_by_DI_HY'] < min_obj_num_in_group), 'median_room_square_by_HY']\n",
    "\n",
    "        # если вдруг еще остались объекты \n",
    "        X.loc[(cond_1) & (X['Square_r'] == 0), 'Square_r'] = \\\n",
    "        X.loc[(cond_1) & (X['Square_r'] == 0), 'Rooms'] * self.median_room_square\n",
    "\n",
    "        X.loc[cond_1, 'Square_restored'] = 1\n",
    "    \n",
    "        # если площадь маленькая и возможно правильная умножим на 10, возможно это опечатка  -- перенести\n",
    "        cond_2 = (X['Square'] < square_valid_min) & ((X['Square'] < X['LifeSquare']) | (1==1)) \n",
    "        X.loc[(cond_2) & (X['Square_r'] == 0), 'Square_r'] = X.loc[(cond_2) & (X['Square_r'] == 0), 'Square'] * 10\n",
    "        X.loc[cond_2, 'Square_restored'] = 1\n",
    "\n",
    "        # если площадь слишком большая разделим на 10 возможно это опечатка.\n",
    "        cond_3 =(X['Square'] > square_valid_max)\n",
    "        X.loc[(cond_3) & (X['Square_r'] == 0), 'Square_r'] = X.loc[(cond_3) & (X['Square_r'] == 0), 'Square'] / 10\n",
    "        X.loc[cond_3, 'Square_restored'] = 1\n",
    "\n",
    "        # пересчитаем PriceSQM\n",
    "        if 'Price' in X.columns:\n",
    "            X.loc[X['Square_restored'] == 1, 'PriceSQM'] = X.loc[X['Square_restored'] == 1,'Price'] \\\n",
    "                         / X.loc[X['Square_restored'] == 1, 'Square_r']\n",
    "        # перенесем Square_r в Square\n",
    "        X.loc[X['Square_restored'] == 1, 'Square'] = X.loc[X['Square_restored'] == 1, 'Square_r']\n",
    "        \n",
    "        ## Rooms\n",
    "        # восстанавливаем количество комнат где 0 и больше 5 через среднюю площадь комнаты по району, году постройки. В несколько этапов.\n",
    "        X['Rooms_outlier'] = 0\n",
    "        cond_4 = (X['Rooms'] < rooms_valid_min) | (X['Rooms'] > rooms_valid_max)\n",
    "        X.loc[cond_4, 'Rooms'] = (X.loc[cond_4, 'Square'] / X.loc[cond_4, 'median_room_square_by_DI_HY']).round(0)\n",
    "        X.loc[cond_4, 'Rooms_outlier'] = 1\n",
    "        # уточним площади однокомнатных квартир, где площади, приходящиеся на комнату больше 50 кв.м\n",
    "        cond_5 = (X['Rooms'] == rooms_valid_min) & (X['Square'] > one_room_square_valid_max)\n",
    "        X.loc[cond_5, 'Rooms'] = (X.loc[cond_5, 'Square'] / \\\n",
    "                                 np.where(X.loc[cond_5, 'obj_num_by_DI_HY'] >= min_obj_num_in_group, \\\n",
    "                                          X.loc[cond_5, 'median_room_square_by_DI_HY'],\n",
    "                                          X.loc[cond_5, 'median_room_square_by_HY'])).round(0)\n",
    "        X.loc[cond_5, 'Rooms_outlier'] = 1\n",
    "        \n",
    "        ## KitchenSquare\n",
    "        conditition_ks = (X['KitchenSquare'].isna()) \\\n",
    "                 | (X['KitchenSquare'] > self.kitchen_square_quantile)\n",
    "        X.loc[conditition_ks, 'KitchenSquare'] = self.medians['KitchenSquare']\n",
    "        X.loc[X['KitchenSquare'] < 3, 'KitchenSquare'] = 3\n",
    "        \n",
    "        ## HouseFloor, Floor\n",
    "        \n",
    "        X['HouseFloor_outlier'] = 0\n",
    "        X.loc[X['HouseFloor'] == 0, 'HouseFloor_outlier'] = 1\n",
    "        X.loc[X['HouseFloor'] < X['Floor'], 'HouseFloor_outlier'] = 1\n",
    "        \n",
    "        X.loc[X['HouseFloor'] == 0, 'HouseFloor'] = self.medians[\"HouseFloor\"]\n",
    "        \n",
    "        floor_more_hfloor_i = X.loc[X['HouseFloor'] < X['Floor']].index\n",
    "        \n",
    "        X.loc[floor_more_hfloor_i, 'Floor'] = X.loc[floor_more_hfloor_i, 'HouseFloor'].apply(lambda x: 1 if x == 1 else random.randint(1, x))\n",
    "        \n",
    "        ## HouseYear\n",
    "        current_year = datetime.now().year\n",
    "        X['HouseYear_outlier'] = 0\n",
    "        X.loc[X['HouseYear'] > current_year, 'HouseYear_outlier'] = 1\n",
    "        X.loc[X['HouseYear'] > current_year, 'HouseYear'] = current_year\n",
    "\n",
    "        ## Healthcare_1\n",
    "        #if 'Healthcare_1' in X.columns:\n",
    "        #    X.drop('Healthcare_1', axis=1, inplace=True)\n",
    "        \n",
    "        ## LifeSquare\n",
    "        X['LifeSquare_restored'] = 0\n",
    "        X['LifeSquare_part'] = (X['LifeSquare'] / X['Square']).round(2)\n",
    "        X['LifeSquare_part'].fillna(0, inplace=True )\n",
    "        \n",
    "        # попробуем восстановить недаекватную жилую площадь для 1к квартир доля LS 0.55+-0.15\n",
    "        cond_lsn_1 = (X['Rooms'] == 1) & (~X['LifeSquare_part'].between(0.4, 0.7))\n",
    "        X.loc[cond_lsn_1, 'LifeSquare'] = X.loc[cond_lsn_1, 'Square'] *\\\n",
    "                                  np.clip(np.random.normal(0.55, 0.08), a_min=0.3, a_max=0.85)\n",
    "\n",
    "        cond_lsn_2 = (X['Rooms'] == 2) & (~X['LifeSquare_part'].between(0.45, 0.75))\n",
    "        X.loc[cond_lsn_2, 'LifeSquare'] = X.loc[cond_lsn_2, 'Square'] * \\\n",
    "                                  np.clip(np.random.normal(0.6, 0.04), a_min=0.3, a_max=0.8)\n",
    "        \n",
    "        cond_lsn_3 = (X['Rooms'] == 3) & (~X['LifeSquare_part'].between(0.47, 0.77))\n",
    "        X.loc[cond_lsn_3, 'LifeSquare'] = X.loc[cond_lsn_3, 'Square'] * \\\n",
    "                                  np.clip(np.random.normal(0.62, 0.08), a_min=0.32, a_max=0.85)\n",
    "        \n",
    "        cond_lsn_4 = (X['Rooms'] == 4) & (~X['LifeSquare_part'].between(0.5, 0.8))\n",
    "        X.loc[cond_lsn_4, 'LifeSquare'] = X.loc[cond_lsn_4, 'Square'] * \\\n",
    "                                  np.clip(np.random.normal(0.65, 0.04), a_min=0.35, a_max=0.9)\n",
    "        \n",
    "        cond_lsn_5 = (X['Rooms'] >=5) & (~X['LifeSquare_part'].between(0.5, 0.8))\n",
    "        X.loc[cond_lsn_5, 'LifeSquare'] = X.loc[cond_lsn_5, 'Square'] * \\\n",
    "                                  np.clip(np.random.normal(0.65, 0.08), a_min=0.35, a_max=0.9)\n",
    "\n",
    "        X.loc[cond_lsn_1 | cond_lsn_2 | cond_lsn_3 | cond_lsn_4 | cond_lsn_5, 'LifeSquare_restored'] = 1\n",
    "        \n",
    "        X.loc[X['LifeSquare_restored'] == 1, 'LifeSquare_part'] = \\\n",
    "                        (X.loc[X['LifeSquare_restored'] == 1, 'LifeSquare'] \\\n",
    "                        / X.loc[X['LifeSquare_restored'] == 1, 'Square']).round(2)\n",
    "        \n",
    "        \n",
    "        self.df_test_HC1 = X.loc[X[self.target_HC1].isna()][self.col_for_scale_HC1].copy()\n",
    "        self.df_test_HC1_scaled = \\\n",
    "            pd.DataFrame(self.scaler_HC1.transform(self.df_test_HC1[self.col_for_scale_HC1]), columns=self.col_for_scale_HC1)\n",
    "        self.y_pred_HC1 = self.clf_HC1.predict(self.df_test_HC1_scaled)      \n",
    "        self.df_test_HC1['Healthcare_1_pred'] = self.y_pred_HC1\n",
    "        self.df_test_HC1.drop(self.col_for_scale_HC1, axis=1, inplace=True)\n",
    "        X = X.merge(self.df_test_HC1, left_index=True, right_index=True, how='left')\n",
    "        cond_HC1_1 = X['Healthcare_1'].isna()\n",
    "        X.loc[cond_HC1_1, 'Healthcare_1'] = X.loc[cond_HC1_1, 'Healthcare_1_pred']\n",
    "        X['Healthcare_1_pred'] = 0\n",
    "        X.loc[~cond_HC1_1,'Healthcare_1_pred'] = 1\n",
    "\n",
    "        # Заполнение пропусков это конечно приемлемо для учебной модели,\n",
    "        # но для реальной модели нужно определить поля обязательные  поля, без которых модель\n",
    "        ## не может работать. Иначе можно запостить запрос без данных и получить какой то ответ, что тоже не есть хорошо.\n",
    "        X.fillna(self.medians, inplace=True)\n",
    "        \n",
    "        return X\n",
    "    \n",
    "    def med_room_square(self, x):\n",
    "        result = {\n",
    "        'mean_room_square':x['Square'].sum() / x['Rooms'].sum(),\n",
    "        'median_room_square':(x['Square'] / x['Rooms']).median(),\n",
    "        'obj_num':x['Id'].count(),\n",
    "        'median_PriceSQM':x['PriceSQM'].median()\n",
    "        }\n",
    "        return pd.Series(result).round(2)\n"
   ]
  },
  {
   "cell_type": "code",
   "execution_count": 9,
   "id": "96b7eb6d",
   "metadata": {},
   "outputs": [],
   "source": [
    "class FeatureGenerator():\n",
    "    def __init__(self):\n",
    "        self.DistrictId_counts = None\n",
    "        self.binary_to_numbers = None\n",
    "        self.median_price_by_district = None\n",
    "        self.median_price_by_floor_year = None\n",
    "        self.house_year_max = None\n",
    "        self.floor_max = None\n",
    "        self.district_size = None\n",
    "        self.median_price_by_district_median = None\n",
    "        self.median_price_by_floor_year_median = None\n",
    "        self.median_price_by_HA = None\n",
    "        self.median_price_by_HA_median = None\n",
    "        \n",
    "    def fit(self, X, y=None):\n",
    "        X = X.copy()\n",
    "        \n",
    "        # Binary features\n",
    "        self.binary_to_numbers = binary_to_numbers = {'A' : 0, 'B' : 1}\n",
    "        \n",
    "        #DistrictId\n",
    "        self.district_size = X['DistrictId'].value_counts().reset_index().\\\n",
    "            rename(columns = {'index':'DistrictId','DistrictId':'DistrictSize'})\n",
    "        \n",
    "        #TargetEncoding\n",
    "        ## District, rooms\n",
    "        df = X.copy()\n",
    "        \n",
    "        if y is not None:\n",
    "            df['PriceSQM'] = y.values\n",
    "            \n",
    "            self.median_price_by_district = df.groupby(['DistrictId', 'Rooms'], as_index=False).agg({'PriceSQM':'median'})\\\n",
    "                     .rename(columns={'PriceSQM':'MedPriceSQM_ByDistrict'})\n",
    "            \n",
    "            self.median_price_by_district_median = self.median_price_by_district['MedPriceSQM_ByDistrict'].median()\n",
    "        \n",
    "        #Floor, Year\n",
    "        self.floor_max = df['Floor'].max()\n",
    "        self.house_year_max = df['HouseYear'].max()\n",
    "        df['House_age'] = 2021 - df['HouseYear'] \n",
    "\n",
    "        if y is not None:\n",
    "            df = self.floor_to_cat_pandas(df)\n",
    "            df = self.year_to_cat_pandas(df)\n",
    "            self.median_price_by_floor_year = df.groupby(['year_cat', 'floor_cat'], as_index=False).agg({'PriceSQM':'median'}).\\\n",
    "               rename(columns={'PriceSQM':'MedPriceSQM_ByFloorYear'})\n",
    "            self.median_price_by_floor_year_median = self.median_price_by_floor_year['MedPriceSQM_ByFloorYear'].median()\n",
    "\n",
    "            \n",
    "        if y is not None:\n",
    "            df = self.House_age_to_cat_pandas(df)\n",
    "            self.median_price_by_HA = df.groupby(['House_age'], as_index=False).agg({'PriceSQM':'median'})\\\n",
    "                     .rename(columns={'PriceSQM':'MedPriceSQM_by_HA'})\n",
    "            self.median_price_by_HA_median = self.median_price_by_HA['MedPriceSQM_by_HA'].median()\n",
    "\n",
    "\n",
    "    def transform(self, X):\n",
    "\n",
    "        # проведем эксперимент, прологарифмируем площадь\n",
    "        X['Square_log'] = np.log(X['Square'])\n",
    "        \n",
    "        #Binary features\n",
    "        X['Ecology_2'] = X['Ecology_2'].replace(self.binary_to_numbers)\n",
    "        X['Ecology_3'] = X['Ecology_3'].replace(self.binary_to_numbers)\n",
    "        X['Shops_2'] = X['Shops_2'].replace(self.binary_to_numbers)\n",
    "        \n",
    "        #District\n",
    "        \n",
    "        if 'DistrictSize' in X.columns:\n",
    "            X.drop('DistrictSize', axis=1, inplace=True)\n",
    "        X = X.merge(self.district_size, on='DistrictId', how='left')\n",
    "        \n",
    "        \n",
    "        if 'NewDistrict' in X.columns:\n",
    "            X.drop('NewDistrict', axis=1, inplace=True)\n",
    "        X['NewDistrict'] = 0\n",
    "        X.loc[X['DistrictSize'].isna(), 'NewDistrict'] = 1\n",
    "        X['DistrictSize'].fillna(5, inplace=True)\n",
    "        \n",
    "        if 'DistrictLarge' in X.columns:\n",
    "            X.drop('DistrictLarge', axis=1, inplace=True)\n",
    "        X['DistrictLarge'] = ((X['DistrictSize'] > 100) * 1).astype(int)\n",
    "        \n",
    "        X['House_age'] = 2021 - X['HouseYear'] \n",
    "        \n",
    "        X = self.floor_to_cat_pandas(X)\n",
    "        X = self.year_to_cat_pandas(X)\n",
    "        X = self.House_age_to_cat_pandas(X)\n",
    "        X = self.House_year_to_cat_pandas(X)\n",
    "        \n",
    "        if self.median_price_by_district is not None:\n",
    "            if 'MedPriceSQM_ByDistrict' in X.columns:\n",
    "                X.drop('MedPriceSQM_ByDistrict', axis=1, inplace=True)\n",
    "            X = X.merge(self.median_price_by_district, on=['DistrictId','Rooms'], how='left')\n",
    "            X['MedPriceSQM_ByDistrict'].fillna(self.median_price_by_district_median, inplace=True)\n",
    "        \n",
    "        if self.median_price_by_floor_year is not None:\n",
    "            if 'MedPriceSQM_ByFloorYear' in df_train.columns:\n",
    "                X.drop('MedPriceSQM_ByFloorYear', axis=1, inplace=True)\n",
    "            X = X.merge(self.median_price_by_floor_year, on=['year_cat','floor_cat'], how='left')\n",
    "            X['MedPriceSQM_ByFloorYear'].fillna(self.median_price_by_district_median, inplace=True)\n",
    "            \n",
    "        if self.median_price_by_HA is not None:\n",
    "            if 'MedPriceSQM_by_HA' in df_train.columns:\n",
    "                X.drop('MedPriceSQM_by_HA', axis=1, inplace=True)\n",
    "            X = X.merge(self.median_price_by_HA, on=['House_age'], how='left')\n",
    "            X['MedPriceSQM_by_HA'].fillna(self.median_price_by_HA_median, inplace=True)\n",
    "   \n",
    "            \n",
    "        return X\n",
    "        \n",
    "        \n",
    "    def floor_to_cat_pandas(self, X):\n",
    "        bins = [0, 3, 5, 9, 15, self.floor_max]\n",
    "        if 'floor_cat' in X.columns:\n",
    "            X.drop('floor_cat', axis=1, inplace=True)\n",
    "        X['floor_cat'] = pd.cut(X['Floor'], bins=bins, labels=False)\n",
    "        X['floor_cat'].fillna(-1, inplace=True)\n",
    "        return X\n",
    "\n",
    "    def year_to_cat_pandas(self, X):\n",
    "        bins = [0, 1941, 1945, 1980, 2010, self.house_year_max]\n",
    "        if 'year_cat' in X.columns:\n",
    "            X.drop('year_cat', axis=1, inplace=True)\n",
    "        X['year_cat'] = pd.cut(X['HouseYear'], bins=bins, labels=False)\n",
    "        X['year_cat'].fillna(-1, inplace=True)\n",
    "        return X\n",
    "    \n",
    "    def House_year_to_cat_pandas(self, X):\n",
    "        bins = [0, 1930, 1950, 1960, 1970, 1980, 1995, 2010, X['HouseYear'].max()]\n",
    "        if 'House_year_cat' in X.columns:\n",
    "            X.drop('House_year_cat', axis=1, inplace=True)\n",
    "        X['House_year_cat'] = pd.cut(X['HouseYear'], bins=bins, labels=False)\n",
    "        X['House_year_cat'].fillna(-1, inplace=True)\n",
    "        return X\n",
    "    \n",
    "    def House_age_to_cat_pandas(self, X):\n",
    "        bins = [0, 5, 10, 20, 30, 40, 50, 70, 90, X['House_age'].max()]\n",
    "        if 'House_age_cat' in X.columns:\n",
    "            X.drop('House_age_cat', axis=1, inplace=True)\n",
    "        X['House_age_cat'] = pd.cut(X['House_age'], bins=bins, labels=False)\n",
    "        X['House_age_cat'].fillna(-1, inplace=True)\n",
    "        return X\n"
   ]
  },
  {
   "cell_type": "markdown",
   "id": "d2917010",
   "metadata": {},
   "source": [
    "## Отбор признаков"
   ]
  },
  {
   "cell_type": "code",
   "execution_count": 10,
   "id": "dd4681ee",
   "metadata": {},
   "outputs": [],
   "source": [
    "feature_names = [\n",
    "                 'DistrictId', # потом убрать\n",
    "                 'Rooms',\n",
    "#                 'Square',     # потом убрать\n",
    "                 'LifeSquare', 'KitchenSquare', 'Floor', 'HouseFloor', 'HouseYear',\n",
    "                 'Ecology_1',\n",
    "                 'Ecology_2',\n",
    "                 'Healthcare_1',\n",
    "       'Ecology_3', 'Social_1', 'Social_2', 'Social_3','Helthcare_2',\n",
    "                 'Shops_1', 'Shops_2']\n",
    "\n",
    "target_name = 'Price'"
   ]
  },
  {
   "cell_type": "code",
   "execution_count": 11,
   "id": "887fb450",
   "metadata": {},
   "outputs": [],
   "source": [
    "new_feafure_names = [\n",
    "        'median_room_square_by_DI_HY',\n",
    "#        'obj_num_by_DI_HY',\n",
    "#        'median_PriceSQM_by_DI_HY',\n",
    "#        'Square_restored',\n",
    "#        'Rooms_outlier',\n",
    "#        'HouseFloor_outlier', \n",
    "#        'HouseYear_outlier',\n",
    "#        'LifeSquare_nan',  # нет в этой модели\n",
    "        'LifeSquare_restored', \n",
    "        'LifeSquare_part',\n",
    "#        'Healthcare_1_pred',\n",
    "#        'DistrictSize',\n",
    "        'House_age',\n",
    "#        'House_age_cat',\n",
    "#        'floor_cat',\n",
    "#        'year_cat',\n",
    "#        'MedPriceSQM_ByDistrict',\n",
    "        'House_year_cat', 'MedPriceSQM_ByFloorYear',\n",
    "        'MedPriceSQM_by_HA',\n",
    "        'Square_log']"
   ]
  },
  {
   "cell_type": "code",
   "execution_count": null,
   "id": "a35d870a",
   "metadata": {},
   "outputs": [],
   "source": []
  },
  {
   "cell_type": "markdown",
   "id": "75a9204d",
   "metadata": {},
   "source": [
    "## Разбиение на train и nest"
   ]
  },
  {
   "cell_type": "code",
   "execution_count": 12,
   "id": "b0681815",
   "metadata": {},
   "outputs": [],
   "source": [
    "import warnings\n",
    "warnings.filterwarnings('ignore')"
   ]
  },
  {
   "cell_type": "code",
   "execution_count": 13,
   "id": "ca45a5aa",
   "metadata": {},
   "outputs": [],
   "source": [
    "df_train = pd.read_csv(DS_TRAIN_ORIG_PATH, sep=',')\n",
    "df_test = pd.read_csv(DS_TEST_ORIG_PATH, sep=',')"
   ]
  },
  {
   "cell_type": "code",
   "execution_count": 14,
   "id": "eb320ae0",
   "metadata": {},
   "outputs": [],
   "source": [
    "y = df_train[target_name]"
   ]
  },
  {
   "cell_type": "code",
   "execution_count": 15,
   "id": "5aad3998",
   "metadata": {},
   "outputs": [],
   "source": [
    "if 'PriceSQM' in df_train.columns:\n",
    "    df_train.drop('PriceSQM', axis=1, inplace=True)\n",
    "df_train['PriceSQM'] = df_train['Price'] / df_train['Square']"
   ]
  },
  {
   "cell_type": "code",
   "execution_count": 16,
   "id": "d4f12ee7",
   "metadata": {},
   "outputs": [],
   "source": [
    "# если препроцессинг (восстановление признаков) делать после разделения на train и vaid\n",
    "# то модели не хватает данных для обучения.\n",
    "prepr = DataPreprocessing()"
   ]
  },
  {
   "cell_type": "code",
   "execution_count": 17,
   "id": "46ebc678",
   "metadata": {},
   "outputs": [],
   "source": [
    "prepr.fit(df_train)\n",
    "df_train = prepr.transform(df_train)"
   ]
  },
  {
   "cell_type": "code",
   "execution_count": 18,
   "id": "5586db66",
   "metadata": {},
   "outputs": [],
   "source": [
    "X_train, X_valid, y_train, y_valid = train_test_split(df_train, y, test_size=0.33, shuffle=True, random_state=21)"
   ]
  },
  {
   "cell_type": "code",
   "execution_count": 19,
   "id": "71390b1d",
   "metadata": {},
   "outputs": [],
   "source": [
    "# это нужно для тренировки модели\n",
    "#if 'PriceSQM' in X_train.columns:\n",
    "#    X_train.drop('PriceSQM', axis=1, inplace=True)\n",
    "#X_train['PriceSQM'] = X_train['Price'] / X_train['Square']"
   ]
  },
  {
   "cell_type": "code",
   "execution_count": 20,
   "id": "2b9d954f",
   "metadata": {},
   "outputs": [],
   "source": [
    "#prepr = DataPreprocessing()"
   ]
  },
  {
   "cell_type": "code",
   "execution_count": 21,
   "id": "6f9ea3fb",
   "metadata": {},
   "outputs": [],
   "source": [
    "#prepr.fit(X_train)"
   ]
  },
  {
   "cell_type": "code",
   "execution_count": 22,
   "id": "f684c83f",
   "metadata": {},
   "outputs": [],
   "source": [
    "#X_train = prepr.transform(X_train)"
   ]
  },
  {
   "cell_type": "code",
   "execution_count": 23,
   "id": "26dd9ebc",
   "metadata": {},
   "outputs": [],
   "source": [
    "#X_valid = prepr.transform(X_valid)"
   ]
  },
  {
   "cell_type": "code",
   "execution_count": 24,
   "id": "ec1c0c11",
   "metadata": {},
   "outputs": [],
   "source": [
    "y_train_sqm = X_train['Price'] / X_train['Square']\n",
    "y_valid_sqm = X_valid['Price'] / X_valid['Square']"
   ]
  },
  {
   "cell_type": "code",
   "execution_count": 25,
   "id": "8137b06e",
   "metadata": {},
   "outputs": [],
   "source": [
    "df_test = prepr.transform(df_test)"
   ]
  },
  {
   "cell_type": "code",
   "execution_count": 26,
   "id": "2044485b",
   "metadata": {},
   "outputs": [],
   "source": [
    "#y = df_train[target_name]\n",
    "#X = df_train #.drop(columns=target_name)"
   ]
  },
  {
   "cell_type": "code",
   "execution_count": 27,
   "id": "e47564d1",
   "metadata": {},
   "outputs": [],
   "source": [
    "y_train = X_train['Price']\n",
    "y_valid = X_valid['Price']"
   ]
  },
  {
   "cell_type": "code",
   "execution_count": 28,
   "id": "3a1b7549",
   "metadata": {},
   "outputs": [],
   "source": [
    "#X_train, X_valid, y_train, y_valid = train_test_split(X, test_size=0.33, shuffle=True, random_state=21)"
   ]
  },
  {
   "cell_type": "code",
   "execution_count": 29,
   "id": "bea4f182",
   "metadata": {},
   "outputs": [],
   "source": [
    "# y_train_sqm = np.clip(y_train_sqm, a_min=800, a_max=8000)\n",
    "# y_valid_sqm = np.clip(y_valid_sqm, a_min=800, a_max=8000)"
   ]
  },
  {
   "cell_type": "code",
   "execution_count": null,
   "id": "e9b1bc72",
   "metadata": {},
   "outputs": [],
   "source": []
  },
  {
   "cell_type": "code",
   "execution_count": 30,
   "id": "d683c14d",
   "metadata": {},
   "outputs": [
    {
     "data": {
      "text/plain": [
       "((6700, 37), (6700,), (6700,))"
      ]
     },
     "execution_count": 30,
     "metadata": {},
     "output_type": "execute_result"
    }
   ],
   "source": [
    "#if 'PriceSQM' in X_valid.columns:\n",
    "#    X_valid.drop('PriceSQM', axis=1, inplace=True)\n",
    "#X_valid['PriceSQM'] = y_valid_sqm.values\n",
    "X_train.shape, y_train_sqm.values.shape, y_train.values.shape"
   ]
  },
  {
   "cell_type": "code",
   "execution_count": 31,
   "id": "18939493",
   "metadata": {},
   "outputs": [],
   "source": [
    "#X_train.info()\n",
    "#X_valid.info()\n",
    "#df_test.info()\n",
    "#prepr.df_med_RoomSquare_by_DI_HY"
   ]
  },
  {
   "cell_type": "code",
   "execution_count": 32,
   "id": "243bab9e",
   "metadata": {},
   "outputs": [
    {
     "data": {
      "text/plain": [
       "pandas.core.frame.DataFrame"
      ]
     },
     "execution_count": 32,
     "metadata": {},
     "output_type": "execute_result"
    }
   ],
   "source": [
    "type(X_train)"
   ]
  },
  {
   "cell_type": "code",
   "execution_count": 33,
   "id": "99622282",
   "metadata": {},
   "outputs": [
    {
     "name": "stdout",
     "output_type": "stream",
     "text": [
      "<class 'pandas.core.series.Series'>\n",
      "<class 'numpy.ndarray'>\n",
      "<class 'pandas.core.series.Series'>\n",
      "<class 'pandas.core.series.Series'>\n"
     ]
    }
   ],
   "source": [
    "print(type(y_train))\n",
    "print(type(y_train.values))\n",
    "print(type(y_train_sqm))\n",
    "print(type(X_train['Square']))"
   ]
  },
  {
   "cell_type": "code",
   "execution_count": 34,
   "id": "e36b8c2f",
   "metadata": {},
   "outputs": [
    {
     "data": {
      "text/plain": [
       "(6700, 6700, 6700)"
      ]
     },
     "execution_count": 34,
     "metadata": {},
     "output_type": "execute_result"
    }
   ],
   "source": [
    "y_train.count(), X_train['Square'].count(), y_train_sqm.count()"
   ]
  },
  {
   "cell_type": "code",
   "execution_count": null,
   "id": "f754cdf8",
   "metadata": {},
   "outputs": [],
   "source": []
  },
  {
   "cell_type": "code",
   "execution_count": 35,
   "id": "439c816b",
   "metadata": {},
   "outputs": [],
   "source": [
    "#X_train.loc[X_train['Rooms'] == 7]\n",
    "#X_train.describe()"
   ]
  },
  {
   "cell_type": "code",
   "execution_count": 36,
   "id": "ecfdd822",
   "metadata": {},
   "outputs": [
    {
     "data": {
      "text/html": [
       "<div>\n",
       "<style scoped>\n",
       "    .dataframe tbody tr th:only-of-type {\n",
       "        vertical-align: middle;\n",
       "    }\n",
       "\n",
       "    .dataframe tbody tr th {\n",
       "        vertical-align: top;\n",
       "    }\n",
       "\n",
       "    .dataframe thead th {\n",
       "        text-align: right;\n",
       "    }\n",
       "</style>\n",
       "<table border=\"1\" class=\"dataframe\">\n",
       "  <thead>\n",
       "    <tr style=\"text-align: right;\">\n",
       "      <th></th>\n",
       "      <th>Rooms</th>\n",
       "      <th>Square</th>\n",
       "      <th>HouseYear</th>\n",
       "      <th>PriceSQM</th>\n",
       "      <th>Price</th>\n",
       "    </tr>\n",
       "  </thead>\n",
       "  <tbody>\n",
       "    <tr>\n",
       "      <th>2783</th>\n",
       "      <td>2.0</td>\n",
       "      <td>42.353485</td>\n",
       "      <td>1933</td>\n",
       "      <td>11854.652892</td>\n",
       "      <td>502085.860162</td>\n",
       "    </tr>\n",
       "    <tr>\n",
       "      <th>753</th>\n",
       "      <td>1.0</td>\n",
       "      <td>33.521641</td>\n",
       "      <td>2015</td>\n",
       "      <td>11393.003236</td>\n",
       "      <td>381912.162109</td>\n",
       "    </tr>\n",
       "    <tr>\n",
       "      <th>9961</th>\n",
       "      <td>1.0</td>\n",
       "      <td>34.911269</td>\n",
       "      <td>1955</td>\n",
       "      <td>11386.831424</td>\n",
       "      <td>397528.736061</td>\n",
       "    </tr>\n",
       "    <tr>\n",
       "      <th>2093</th>\n",
       "      <td>2.0</td>\n",
       "      <td>47.489415</td>\n",
       "      <td>1918</td>\n",
       "      <td>11328.412026</td>\n",
       "      <td>537979.657509</td>\n",
       "    </tr>\n",
       "    <tr>\n",
       "      <th>1068</th>\n",
       "      <td>1.0</td>\n",
       "      <td>46.248238</td>\n",
       "      <td>1977</td>\n",
       "      <td>11164.009578</td>\n",
       "      <td>516315.770611</td>\n",
       "    </tr>\n",
       "    <tr>\n",
       "      <th>9826</th>\n",
       "      <td>2.0</td>\n",
       "      <td>58.757047</td>\n",
       "      <td>2004</td>\n",
       "      <td>10648.571986</td>\n",
       "      <td>625678.644994</td>\n",
       "    </tr>\n",
       "    <tr>\n",
       "      <th>8501</th>\n",
       "      <td>2.0</td>\n",
       "      <td>17.414181</td>\n",
       "      <td>1977</td>\n",
       "      <td>10379.498777</td>\n",
       "      <td>180750.471749</td>\n",
       "    </tr>\n",
       "    <tr>\n",
       "      <th>651</th>\n",
       "      <td>3.0</td>\n",
       "      <td>54.036554</td>\n",
       "      <td>2017</td>\n",
       "      <td>10290.327151</td>\n",
       "      <td>556053.820499</td>\n",
       "    </tr>\n",
       "    <tr>\n",
       "      <th>4800</th>\n",
       "      <td>1.0</td>\n",
       "      <td>48.610000</td>\n",
       "      <td>1977</td>\n",
       "      <td>9942.059002</td>\n",
       "      <td>483283.488083</td>\n",
       "    </tr>\n",
       "    <tr>\n",
       "      <th>6074</th>\n",
       "      <td>2.0</td>\n",
       "      <td>55.637752</td>\n",
       "      <td>1958</td>\n",
       "      <td>9930.586635</td>\n",
       "      <td>552515.519533</td>\n",
       "    </tr>\n",
       "    <tr>\n",
       "      <th>2300</th>\n",
       "      <td>3.0</td>\n",
       "      <td>61.690768</td>\n",
       "      <td>1936</td>\n",
       "      <td>9181.846361</td>\n",
       "      <td>566435.153460</td>\n",
       "    </tr>\n",
       "    <tr>\n",
       "      <th>6674</th>\n",
       "      <td>2.0</td>\n",
       "      <td>55.603098</td>\n",
       "      <td>2003</td>\n",
       "      <td>9043.826572</td>\n",
       "      <td>502864.776935</td>\n",
       "    </tr>\n",
       "    <tr>\n",
       "      <th>51</th>\n",
       "      <td>2.0</td>\n",
       "      <td>62.747509</td>\n",
       "      <td>1956</td>\n",
       "      <td>8855.521938</td>\n",
       "      <td>555661.943969</td>\n",
       "    </tr>\n",
       "    <tr>\n",
       "      <th>2690</th>\n",
       "      <td>2.0</td>\n",
       "      <td>48.185943</td>\n",
       "      <td>1963</td>\n",
       "      <td>8837.378217</td>\n",
       "      <td>425837.404955</td>\n",
       "    </tr>\n",
       "    <tr>\n",
       "      <th>9201</th>\n",
       "      <td>2.0</td>\n",
       "      <td>45.121138</td>\n",
       "      <td>1977</td>\n",
       "      <td>8791.651335</td>\n",
       "      <td>396689.308758</td>\n",
       "    </tr>\n",
       "    <tr>\n",
       "      <th>7777</th>\n",
       "      <td>2.0</td>\n",
       "      <td>62.198335</td>\n",
       "      <td>1948</td>\n",
       "      <td>8700.768533</td>\n",
       "      <td>541173.319391</td>\n",
       "    </tr>\n",
       "    <tr>\n",
       "      <th>8863</th>\n",
       "      <td>2.0</td>\n",
       "      <td>51.329603</td>\n",
       "      <td>1977</td>\n",
       "      <td>8687.396569</td>\n",
       "      <td>445920.620104</td>\n",
       "    </tr>\n",
       "    <tr>\n",
       "      <th>402</th>\n",
       "      <td>1.0</td>\n",
       "      <td>44.098768</td>\n",
       "      <td>2014</td>\n",
       "      <td>8660.954102</td>\n",
       "      <td>381937.404161</td>\n",
       "    </tr>\n",
       "    <tr>\n",
       "      <th>2667</th>\n",
       "      <td>1.0</td>\n",
       "      <td>39.496277</td>\n",
       "      <td>1980</td>\n",
       "      <td>8654.113006</td>\n",
       "      <td>341805.242387</td>\n",
       "    </tr>\n",
       "    <tr>\n",
       "      <th>6487</th>\n",
       "      <td>2.0</td>\n",
       "      <td>44.000047</td>\n",
       "      <td>1966</td>\n",
       "      <td>8653.753055</td>\n",
       "      <td>380765.543594</td>\n",
       "    </tr>\n",
       "    <tr>\n",
       "      <th>9568</th>\n",
       "      <td>3.0</td>\n",
       "      <td>58.709335</td>\n",
       "      <td>1964</td>\n",
       "      <td>8645.171143</td>\n",
       "      <td>507552.246997</td>\n",
       "    </tr>\n",
       "    <tr>\n",
       "      <th>4177</th>\n",
       "      <td>3.0</td>\n",
       "      <td>49.934561</td>\n",
       "      <td>1938</td>\n",
       "      <td>8593.064137</td>\n",
       "      <td>429090.881284</td>\n",
       "    </tr>\n",
       "    <tr>\n",
       "      <th>9271</th>\n",
       "      <td>1.0</td>\n",
       "      <td>45.787482</td>\n",
       "      <td>2017</td>\n",
       "      <td>8359.156446</td>\n",
       "      <td>382744.729332</td>\n",
       "    </tr>\n",
       "    <tr>\n",
       "      <th>567</th>\n",
       "      <td>1.0</td>\n",
       "      <td>44.341019</td>\n",
       "      <td>2016</td>\n",
       "      <td>8281.011962</td>\n",
       "      <td>367188.510665</td>\n",
       "    </tr>\n",
       "    <tr>\n",
       "      <th>3031</th>\n",
       "      <td>2.0</td>\n",
       "      <td>49.978867</td>\n",
       "      <td>1966</td>\n",
       "      <td>8268.740559</td>\n",
       "      <td>413262.283331</td>\n",
       "    </tr>\n",
       "    <tr>\n",
       "      <th>3470</th>\n",
       "      <td>3.0</td>\n",
       "      <td>65.475260</td>\n",
       "      <td>1918</td>\n",
       "      <td>8257.138998</td>\n",
       "      <td>540638.323555</td>\n",
       "    </tr>\n",
       "    <tr>\n",
       "      <th>4616</th>\n",
       "      <td>2.0</td>\n",
       "      <td>58.644989</td>\n",
       "      <td>1961</td>\n",
       "      <td>8230.828169</td>\n",
       "      <td>482696.829989</td>\n",
       "    </tr>\n",
       "    <tr>\n",
       "      <th>9055</th>\n",
       "      <td>2.0</td>\n",
       "      <td>54.206297</td>\n",
       "      <td>2006</td>\n",
       "      <td>8172.732397</td>\n",
       "      <td>443013.562600</td>\n",
       "    </tr>\n",
       "    <tr>\n",
       "      <th>3567</th>\n",
       "      <td>2.0</td>\n",
       "      <td>59.315059</td>\n",
       "      <td>2006</td>\n",
       "      <td>8137.622772</td>\n",
       "      <td>482683.575791</td>\n",
       "    </tr>\n",
       "    <tr>\n",
       "      <th>4974</th>\n",
       "      <td>2.0</td>\n",
       "      <td>53.121383</td>\n",
       "      <td>1954</td>\n",
       "      <td>8074.505340</td>\n",
       "      <td>428928.889005</td>\n",
       "    </tr>\n",
       "  </tbody>\n",
       "</table>\n",
       "</div>"
      ],
      "text/plain": [
       "      Rooms     Square  HouseYear      PriceSQM          Price\n",
       "2783    2.0  42.353485       1933  11854.652892  502085.860162\n",
       "753     1.0  33.521641       2015  11393.003236  381912.162109\n",
       "9961    1.0  34.911269       1955  11386.831424  397528.736061\n",
       "2093    2.0  47.489415       1918  11328.412026  537979.657509\n",
       "1068    1.0  46.248238       1977  11164.009578  516315.770611\n",
       "9826    2.0  58.757047       2004  10648.571986  625678.644994\n",
       "8501    2.0  17.414181       1977  10379.498777  180750.471749\n",
       "651     3.0  54.036554       2017  10290.327151  556053.820499\n",
       "4800    1.0  48.610000       1977   9942.059002  483283.488083\n",
       "6074    2.0  55.637752       1958   9930.586635  552515.519533\n",
       "2300    3.0  61.690768       1936   9181.846361  566435.153460\n",
       "6674    2.0  55.603098       2003   9043.826572  502864.776935\n",
       "51      2.0  62.747509       1956   8855.521938  555661.943969\n",
       "2690    2.0  48.185943       1963   8837.378217  425837.404955\n",
       "9201    2.0  45.121138       1977   8791.651335  396689.308758\n",
       "7777    2.0  62.198335       1948   8700.768533  541173.319391\n",
       "8863    2.0  51.329603       1977   8687.396569  445920.620104\n",
       "402     1.0  44.098768       2014   8660.954102  381937.404161\n",
       "2667    1.0  39.496277       1980   8654.113006  341805.242387\n",
       "6487    2.0  44.000047       1966   8653.753055  380765.543594\n",
       "9568    3.0  58.709335       1964   8645.171143  507552.246997\n",
       "4177    3.0  49.934561       1938   8593.064137  429090.881284\n",
       "9271    1.0  45.787482       2017   8359.156446  382744.729332\n",
       "567     1.0  44.341019       2016   8281.011962  367188.510665\n",
       "3031    2.0  49.978867       1966   8268.740559  413262.283331\n",
       "3470    3.0  65.475260       1918   8257.138998  540638.323555\n",
       "4616    2.0  58.644989       1961   8230.828169  482696.829989\n",
       "9055    2.0  54.206297       2006   8172.732397  443013.562600\n",
       "3567    2.0  59.315059       2006   8137.622772  482683.575791\n",
       "4974    2.0  53.121383       1954   8074.505340  428928.889005"
      ]
     },
     "execution_count": 36,
     "metadata": {},
     "output_type": "execute_result"
    }
   ],
   "source": [
    "X_train.sort_values(by='PriceSQM', ascending=False)[[ 'Rooms', 'Square', 'HouseYear', 'PriceSQM', 'Price']].head(30)"
   ]
  },
  {
   "cell_type": "code",
   "execution_count": 37,
   "id": "790ccd07",
   "metadata": {},
   "outputs": [],
   "source": [
    "#df_test = prepr.transform(df_test)"
   ]
  },
  {
   "cell_type": "code",
   "execution_count": 38,
   "id": "3d4e4ece",
   "metadata": {},
   "outputs": [
    {
     "data": {
      "text/plain": [
       "((6700, 37), (3300, 37), (5000, 35))"
      ]
     },
     "execution_count": 38,
     "metadata": {},
     "output_type": "execute_result"
    }
   ],
   "source": [
    "#Убедимся, что все прошло благополучно, полученные датасеты имеют одинаковый размер\n",
    "# будет разная размерность у тренировочного и тестового датасета.\n",
    "X_train.shape, X_valid.shape, df_test.shape"
   ]
  },
  {
   "cell_type": "code",
   "execution_count": 39,
   "id": "43733cbc",
   "metadata": {},
   "outputs": [],
   "source": [
    "#X_train.info()"
   ]
  },
  {
   "cell_type": "code",
   "execution_count": 40,
   "id": "e9e7b527",
   "metadata": {},
   "outputs": [
    {
     "data": {
      "text/plain": [
       "13.0"
      ]
     },
     "execution_count": 40,
     "metadata": {},
     "output_type": "execute_result"
    }
   ],
   "source": [
    "#Проверим в какое значение установились свойства класса после обучения\n",
    "prepr.kitchen_square_quantile"
   ]
  },
  {
   "cell_type": "code",
   "execution_count": 41,
   "id": "d7c6b58b",
   "metadata": {},
   "outputs": [
    {
     "data": {
      "text/plain": [
       "9239    3159.410326\n",
       "6930    2373.230546\n",
       "8136    2476.799680\n",
       "3424    3281.365132\n",
       "6518    2337.773090\n",
       "           ...     \n",
       "9336    4132.423182\n",
       "48      4013.749937\n",
       "8964    4361.722365\n",
       "5944    3119.087491\n",
       "5327    3902.843205\n",
       "Length: 6700, dtype: float64"
      ]
     },
     "execution_count": 41,
     "metadata": {},
     "output_type": "execute_result"
    }
   ],
   "source": [
    "y_train_sqm"
   ]
  },
  {
   "cell_type": "code",
   "execution_count": 42,
   "id": "a6c85fad",
   "metadata": {},
   "outputs": [],
   "source": [
    "features_gen = FeatureGenerator()"
   ]
  },
  {
   "cell_type": "code",
   "execution_count": 43,
   "id": "a494cc95",
   "metadata": {},
   "outputs": [],
   "source": [
    "features_gen.fit(X_train, y_train_sqm)"
   ]
  },
  {
   "cell_type": "code",
   "execution_count": 44,
   "id": "ec592e50",
   "metadata": {},
   "outputs": [
    {
     "data": {
      "text/plain": [
       "4401.4677647229455"
      ]
     },
     "execution_count": 44,
     "metadata": {},
     "output_type": "execute_result"
    }
   ],
   "source": [
    "features_gen.median_price_by_HA_median"
   ]
  },
  {
   "cell_type": "code",
   "execution_count": 45,
   "id": "c150910c",
   "metadata": {},
   "outputs": [],
   "source": [
    "X_train = features_gen.transform(X_train)"
   ]
  },
  {
   "cell_type": "code",
   "execution_count": 46,
   "id": "266bd503",
   "metadata": {},
   "outputs": [],
   "source": [
    "#X_train.to_excel('..\\L10\\X_train_prep_1.xls', index=True)\n",
    "#pd.DataFrame(y_train_sqm.values, columns=['PriceSQM']).to_excel('..\\L10\\y_train_sqm_prep_1.xls', index=True)"
   ]
  },
  {
   "cell_type": "code",
   "execution_count": 47,
   "id": "d2498186",
   "metadata": {},
   "outputs": [],
   "source": [
    "X_valid = features_gen.transform(X_valid)\n",
    "df_test = features_gen.transform(df_test)"
   ]
  },
  {
   "cell_type": "code",
   "execution_count": 48,
   "id": "78e2656e",
   "metadata": {},
   "outputs": [
    {
     "data": {
      "text/plain": [
       "((6700, 49), (3300, 49), (5000, 47))"
      ]
     },
     "execution_count": 48,
     "metadata": {},
     "output_type": "execute_result"
    }
   ],
   "source": [
    "# в оригинальной задаче 29 призаков, у меня 27?\n",
    "X_train.shape, X_valid.shape, df_test.shape"
   ]
  },
  {
   "cell_type": "code",
   "execution_count": 49,
   "id": "0390fa3b",
   "metadata": {},
   "outputs": [],
   "source": [
    "#from sklearn.feature_extraction import FeatureHasher\n",
    "#df_district = pd.DataFrame(df_train['DistrictId'].unique(),columns=['DistrictId']).copy()\n",
    "##df_district['DistrictId'] = df_district['DistrictId'].astype('str')\n",
    "#hashing=FeatureHasher(input_type='string', n_features=10)\n",
    "#df_district_hash = pd.DataFrame(hashing.transform(df_district['DistrictId'].astype('str')).toarray())\n",
    "#for c in df_district_hash.columns:\n",
    "#    df_district_hash.rename(columns={c:'DistrId_'+str(c)}, inplace=True)\n",
    "#df_district_hash = pd.concat([df_district, df_district_hash], axis=1)\n",
    "#feature_distr = ['DistrId_0', 'DistrId_1', 'DistrId_2', 'DistrId_3', 'DistrId_4', 'DistrId_5', 'DistrId_6', \n",
    "#                 'DistrId_7', 'DistrId_8', 'DistrId_9']\n",
    "#X_train_dsh = X_train.merge(df_district_hash, on='DistrictId', how='left')"
   ]
  },
  {
   "cell_type": "code",
   "execution_count": 50,
   "id": "22cce741",
   "metadata": {},
   "outputs": [],
   "source": [
    "#df_district_hash.sort_values(by='DistrictId').head(60)\n",
    "#df_district_hash.info()"
   ]
  },
  {
   "cell_type": "code",
   "execution_count": 51,
   "id": "312fc78f",
   "metadata": {},
   "outputs": [],
   "source": [
    "#if 'DistrId_0' in X_train:\n",
    "#    X_train_h.drop(feature_distr, axis=1, inplace=True)\n",
    "#X_train = X_train.merge(df_district_hash, on='DistrictId', how='left')"
   ]
  },
  {
   "cell_type": "code",
   "execution_count": 52,
   "id": "06a4ee8d",
   "metadata": {},
   "outputs": [],
   "source": [
    "#if 'DistrId_0' in X_valid:\n",
    "#    X_valid_h.drop(feature_distr, axis=1, inplace=True)\n",
    "#X_valid = X_valid.merge(df_district_hash, on='DistrictId', how='left')"
   ]
  },
  {
   "cell_type": "code",
   "execution_count": 53,
   "id": "a00cac89",
   "metadata": {},
   "outputs": [],
   "source": [
    "#if 'DistrId_0' in df_test:\n",
    "#    df_test.drop(feature_distr, axis=1, inplace=True)\n",
    "#df_test = df_test.merge(df_district_hash, on='DistrictId', how='left')"
   ]
  },
  {
   "cell_type": "code",
   "execution_count": 54,
   "id": "cd3d40f6",
   "metadata": {},
   "outputs": [
    {
     "data": {
      "text/plain": [
       "624"
      ]
     },
     "execution_count": 54,
     "metadata": {},
     "output_type": "execute_result"
    }
   ],
   "source": [
    "# проверим сколько уникальных значений в массиве \n",
    "features_gen.median_price_by_district['MedPriceSQM_ByDistrict'].nunique()"
   ]
  },
  {
   "cell_type": "code",
   "execution_count": 55,
   "id": "7d04e48c",
   "metadata": {},
   "outputs": [
    {
     "data": {
      "text/plain": [
       "(6700, 25)"
      ]
     },
     "execution_count": 55,
     "metadata": {},
     "output_type": "execute_result"
    }
   ],
   "source": [
    "X_train_for_model = X_train[feature_names + new_feafure_names] # + feature_distr]\n",
    "X_train_for_model.shape"
   ]
  },
  {
   "cell_type": "code",
   "execution_count": 56,
   "id": "ce4c86a8",
   "metadata": {},
   "outputs": [
    {
     "data": {
      "text/plain": [
       "(3300, 25)"
      ]
     },
     "execution_count": 56,
     "metadata": {},
     "output_type": "execute_result"
    }
   ],
   "source": [
    "X_valid_for_model = X_valid[feature_names + new_feafure_names] # + feature_distr]\n",
    "X_valid_for_model.shape"
   ]
  },
  {
   "cell_type": "code",
   "execution_count": 57,
   "id": "ffd8baa6",
   "metadata": {},
   "outputs": [
    {
     "data": {
      "text/plain": [
       "(5000, 25)"
      ]
     },
     "execution_count": 57,
     "metadata": {},
     "output_type": "execute_result"
    }
   ],
   "source": [
    "df_test_for_model = df_test[feature_names + new_feafure_names] # + feature_distr]\n",
    "df_test_for_model.shape"
   ]
  },
  {
   "cell_type": "code",
   "execution_count": 58,
   "id": "d1678f28",
   "metadata": {},
   "outputs": [
    {
     "name": "stdout",
     "output_type": "stream",
     "text": [
      "<class 'pandas.core.frame.DataFrame'>\n",
      "Int64Index: 6700 entries, 0 to 6699\n",
      "Data columns (total 25 columns):\n",
      " #   Column                       Non-Null Count  Dtype  \n",
      "---  ------                       --------------  -----  \n",
      " 0   DistrictId                   6700 non-null   int64  \n",
      " 1   Rooms                        6700 non-null   float64\n",
      " 2   LifeSquare                   6700 non-null   float64\n",
      " 3   KitchenSquare                6700 non-null   float64\n",
      " 4   Floor                        6700 non-null   int64  \n",
      " 5   HouseFloor                   6700 non-null   float64\n",
      " 6   HouseYear                    6700 non-null   int64  \n",
      " 7   Ecology_1                    6700 non-null   float64\n",
      " 8   Ecology_2                    6700 non-null   int64  \n",
      " 9   Healthcare_1                 6700 non-null   float64\n",
      " 10  Ecology_3                    6700 non-null   int64  \n",
      " 11  Social_1                     6700 non-null   int64  \n",
      " 12  Social_2                     6700 non-null   int64  \n",
      " 13  Social_3                     6700 non-null   int64  \n",
      " 14  Helthcare_2                  6700 non-null   int64  \n",
      " 15  Shops_1                      6700 non-null   int64  \n",
      " 16  Shops_2                      6700 non-null   int64  \n",
      " 17  median_room_square_by_DI_HY  6700 non-null   float64\n",
      " 18  LifeSquare_restored          6700 non-null   int64  \n",
      " 19  LifeSquare_part              6700 non-null   float64\n",
      " 20  House_age                    6700 non-null   int64  \n",
      " 21  House_year_cat               6700 non-null   int64  \n",
      " 22  MedPriceSQM_ByFloorYear      6700 non-null   float64\n",
      " 23  MedPriceSQM_by_HA            6700 non-null   float64\n",
      " 24  Square_log                   6700 non-null   float64\n",
      "dtypes: float64(11), int64(14)\n",
      "memory usage: 1.3 MB\n"
     ]
    }
   ],
   "source": [
    "X_train_for_model.info()"
   ]
  },
  {
   "cell_type": "code",
   "execution_count": 59,
   "id": "fe73f09d",
   "metadata": {},
   "outputs": [
    {
     "data": {
      "text/plain": [
       "(0, 0, 0)"
      ]
     },
     "execution_count": 59,
     "metadata": {},
     "output_type": "execute_result"
    }
   ],
   "source": [
    "X_train_for_model.isna().sum().sum(), X_valid_for_model.isna().sum().sum(), df_test_for_model.isna().sum().sum()"
   ]
  },
  {
   "cell_type": "code",
   "execution_count": 60,
   "id": "25a8bc96",
   "metadata": {},
   "outputs": [],
   "source": [
    "#pd.concat([pd.concat([X_train, pd.DataFrame(y_train_sqm.values, columns=['PriceSQM'])], axis=1), pd.DataFrame(y_train.values, columns=['Price'])], axis=1).to_excel('../L10/t_26.xls', index=False)"
   ]
  },
  {
   "cell_type": "markdown",
   "id": "9b1abcf3",
   "metadata": {},
   "source": [
    "## Построение модели"
   ]
  },
  {
   "cell_type": "code",
   "execution_count": 61,
   "id": "dfd43470",
   "metadata": {},
   "outputs": [],
   "source": [
    "# Поиск по сетке не очень эффективная штука, т.к. может показать на валидационном датасете больший результат а на боевом меньший\n",
    "# Почем такое происходит?"
   ]
  },
  {
   "cell_type": "code",
   "execution_count": 62,
   "id": "076a3e5a",
   "metadata": {},
   "outputs": [],
   "source": [
    "#model = RandomForestRegressor(max_depth=7, min_samples_leaf=50 ,random_state=21, criterion='mse', n_estimators=2000)\n",
    "#model.fit(X_train_for_model, y_train_sqm)\n",
    "#model.fit(X_train_for_model, y_train)"
   ]
  },
  {
   "cell_type": "code",
   "execution_count": 63,
   "id": "555c2ec9",
   "metadata": {},
   "outputs": [
    {
     "data": {
      "text/plain": [
       "GradientBoostingRegressor(criterion='mse', learning_rate=0.025, loss='huber',\n",
       "                          max_depth=6, max_features='sqrt', min_samples_leaf=50,\n",
       "                          n_estimators=2250, random_state=21)"
      ]
     },
     "execution_count": 63,
     "metadata": {},
     "output_type": "execute_result"
    }
   ],
   "source": [
    "# Подсмотрел решение на kaggle \n",
    "model = GradientBoostingRegressor(criterion='mse', max_depth=6, min_samples_leaf=50, random_state=21, n_estimators=2250, \n",
    "                                     max_features='sqrt', loss='huber', learning_rate=0.025)\n",
    "\n",
    "model.fit(X_train_for_model, y_train)\n"
   ]
  },
  {
   "cell_type": "markdown",
   "id": "864fd103",
   "metadata": {},
   "source": [
    "Оценка модели"
   ]
  },
  {
   "cell_type": "code",
   "execution_count": 64,
   "id": "a82cf915",
   "metadata": {},
   "outputs": [],
   "source": [
    "#model = gb_model"
   ]
  },
  {
   "cell_type": "code",
   "execution_count": 65,
   "id": "790de180",
   "metadata": {},
   "outputs": [],
   "source": [
    "#y_train_sqm_preds = rf_model.predict(X_train_for_model)\n",
    "#y_train_sqm_preds = gb_model.predict(X_train_for_model)\n",
    "y_train_preds = model.predict(X_train_for_model)"
   ]
  },
  {
   "cell_type": "code",
   "execution_count": 66,
   "id": "b8f240ee",
   "metadata": {},
   "outputs": [],
   "source": [
    "#y_valid_sqm_preds = rf_model.predict(X_valid_for_model)\n",
    "#y_valid_sqm_preds = gb_model.predict(X_valid_for_model)\n",
    "y_valid_preds = model.predict(X_valid_for_model)"
   ]
  },
  {
   "cell_type": "code",
   "execution_count": 67,
   "id": "59ea3773",
   "metadata": {},
   "outputs": [],
   "source": [
    "#pd.concat([pd.concat([pd.concat([X_train, pd.DataFrame(y_train_sqm.values, columns=['PriceSQM'])], axis=1), pd.DataFrame(y_train_sqm_preds, columns=['PriceSQM_preds']) ], axis=1), pd.DataFrame(y_train.values, columns=['Price'])], axis=1).to_csv(DS_TRAIN_PREP_PATH, index=False)\n",
    "#pd.concat([pd.concat([pd.concat([X_train, pd.DataFrame(y_train_sqm.values, columns=['PriceSQM'])], axis=1), pd.DataFrame(y_train_sqm_preds, columns=['PriceSQM_preds']) ], axis=1), pd.DataFrame(y_train.values, columns=['Price'])], axis=1).to_excel('..\\L10\\X_train_prep.xls', index=True)\n",
    "#pd.concat([pd.concat([pd.concat([X_valid, pd.DataFrame(y_valid_sqm.values, columns=['PriceSQM'])], axis=1), pd.DataFrame(y_valid_sqm_preds, columns=['PriceSQM_preds']) ], axis=1), pd.DataFrame(y_valid.values, columns=['Price'])], axis=1).to_excel('..\\L10\\X_valid_prep.xls', index=True)"
   ]
  },
  {
   "cell_type": "code",
   "execution_count": 68,
   "id": "22148074",
   "metadata": {},
   "outputs": [],
   "source": [
    "#y_train_preds = y_train_sqm_preds * X_train_for_model['Square'].values\n",
    "#y_valid_preds = y_valid_sqm_preds * X_valid_for_model['Square'].values"
   ]
  },
  {
   "cell_type": "code",
   "execution_count": 69,
   "id": "eca8d71c",
   "metadata": {
    "scrolled": false
   },
   "outputs": [
    {
     "name": "stdout",
     "output_type": "stream",
     "text": [
      "Train R2:\t0.863\n",
      "Test R2:\t0.764\n"
     ]
    },
    {
     "data": {
      "image/png": "[encoded data removed]",
      "text/plain": [
       "<Figure size 1296x720 with 2 Axes>"
      ]
     },
     "metadata": {
      "needs_background": "light"
     },
     "output_type": "display_data"
    }
   ],
   "source": [
    "#evaluate_preds(y_train_sqm, y_train_sqm_preds, y_valid_sqm, y_valid_sqm_preds)\n",
    "# evaluate_preds(y_train, y_train_preds, y_valid, y_valid_preds)\n",
    "evaluate_preds(y_train, y_train_preds, y_valid, y_valid_preds)"
   ]
  },
  {
   "cell_type": "code",
   "execution_count": 70,
   "id": "29df8d97",
   "metadata": {},
   "outputs": [],
   "source": []
  },
  {
   "cell_type": "code",
   "execution_count": 71,
   "id": "f6044551",
   "metadata": {},
   "outputs": [
    {
     "data": {
      "text/plain": [
       "GradientBoostingRegressor(criterion='mse', learning_rate=0.025, loss='huber',\n",
       "                          max_depth=6, max_features='sqrt', min_samples_leaf=50,\n",
       "                          n_estimators=2250, random_state=21)"
      ]
     },
     "execution_count": 71,
     "metadata": {},
     "output_type": "execute_result"
    }
   ],
   "source": [
    "#cv_score.mean()\n",
    "model"
   ]
  },
  {
   "cell_type": "markdown",
   "id": "4790f85f",
   "metadata": {},
   "source": [
    "### важность признаков"
   ]
  },
  {
   "cell_type": "code",
   "execution_count": 72,
   "id": "eefdd0e4",
   "metadata": {},
   "outputs": [
    {
     "data": {
      "text/html": [
       "<div>\n",
       "<style scoped>\n",
       "    .dataframe tbody tr th:only-of-type {\n",
       "        vertical-align: middle;\n",
       "    }\n",
       "\n",
       "    .dataframe tbody tr th {\n",
       "        vertical-align: top;\n",
       "    }\n",
       "\n",
       "    .dataframe thead th {\n",
       "        text-align: right;\n",
       "    }\n",
       "</style>\n",
       "<table border=\"1\" class=\"dataframe\">\n",
       "  <thead>\n",
       "    <tr style=\"text-align: right;\">\n",
       "      <th></th>\n",
       "      <th>feature_name</th>\n",
       "      <th>importance</th>\n",
       "    </tr>\n",
       "  </thead>\n",
       "  <tbody>\n",
       "    <tr>\n",
       "      <th>24</th>\n",
       "      <td>Square_log</td>\n",
       "      <td>0.189753</td>\n",
       "    </tr>\n",
       "    <tr>\n",
       "      <th>2</th>\n",
       "      <td>LifeSquare</td>\n",
       "      <td>0.164808</td>\n",
       "    </tr>\n",
       "    <tr>\n",
       "      <th>1</th>\n",
       "      <td>Rooms</td>\n",
       "      <td>0.118373</td>\n",
       "    </tr>\n",
       "    <tr>\n",
       "      <th>11</th>\n",
       "      <td>Social_1</td>\n",
       "      <td>0.070816</td>\n",
       "    </tr>\n",
       "    <tr>\n",
       "      <th>12</th>\n",
       "      <td>Social_2</td>\n",
       "      <td>0.068701</td>\n",
       "    </tr>\n",
       "    <tr>\n",
       "      <th>13</th>\n",
       "      <td>Social_3</td>\n",
       "      <td>0.068059</td>\n",
       "    </tr>\n",
       "    <tr>\n",
       "      <th>0</th>\n",
       "      <td>DistrictId</td>\n",
       "      <td>0.051458</td>\n",
       "    </tr>\n",
       "    <tr>\n",
       "      <th>7</th>\n",
       "      <td>Ecology_1</td>\n",
       "      <td>0.037137</td>\n",
       "    </tr>\n",
       "    <tr>\n",
       "      <th>23</th>\n",
       "      <td>MedPriceSQM_by_HA</td>\n",
       "      <td>0.032088</td>\n",
       "    </tr>\n",
       "    <tr>\n",
       "      <th>3</th>\n",
       "      <td>KitchenSquare</td>\n",
       "      <td>0.026289</td>\n",
       "    </tr>\n",
       "    <tr>\n",
       "      <th>9</th>\n",
       "      <td>Healthcare_1</td>\n",
       "      <td>0.025421</td>\n",
       "    </tr>\n",
       "    <tr>\n",
       "      <th>17</th>\n",
       "      <td>median_room_square_by_DI_HY</td>\n",
       "      <td>0.019965</td>\n",
       "    </tr>\n",
       "    <tr>\n",
       "      <th>19</th>\n",
       "      <td>LifeSquare_part</td>\n",
       "      <td>0.019858</td>\n",
       "    </tr>\n",
       "    <tr>\n",
       "      <th>15</th>\n",
       "      <td>Shops_1</td>\n",
       "      <td>0.019273</td>\n",
       "    </tr>\n",
       "    <tr>\n",
       "      <th>5</th>\n",
       "      <td>HouseFloor</td>\n",
       "      <td>0.018267</td>\n",
       "    </tr>\n",
       "    <tr>\n",
       "      <th>22</th>\n",
       "      <td>MedPriceSQM_ByFloorYear</td>\n",
       "      <td>0.016524</td>\n",
       "    </tr>\n",
       "    <tr>\n",
       "      <th>6</th>\n",
       "      <td>HouseYear</td>\n",
       "      <td>0.011470</td>\n",
       "    </tr>\n",
       "    <tr>\n",
       "      <th>20</th>\n",
       "      <td>House_age</td>\n",
       "      <td>0.011431</td>\n",
       "    </tr>\n",
       "    <tr>\n",
       "      <th>4</th>\n",
       "      <td>Floor</td>\n",
       "      <td>0.010080</td>\n",
       "    </tr>\n",
       "    <tr>\n",
       "      <th>14</th>\n",
       "      <td>Helthcare_2</td>\n",
       "      <td>0.009539</td>\n",
       "    </tr>\n",
       "    <tr>\n",
       "      <th>21</th>\n",
       "      <td>House_year_cat</td>\n",
       "      <td>0.005351</td>\n",
       "    </tr>\n",
       "    <tr>\n",
       "      <th>18</th>\n",
       "      <td>LifeSquare_restored</td>\n",
       "      <td>0.004424</td>\n",
       "    </tr>\n",
       "    <tr>\n",
       "      <th>16</th>\n",
       "      <td>Shops_2</td>\n",
       "      <td>0.000733</td>\n",
       "    </tr>\n",
       "    <tr>\n",
       "      <th>10</th>\n",
       "      <td>Ecology_3</td>\n",
       "      <td>0.000153</td>\n",
       "    </tr>\n",
       "    <tr>\n",
       "      <th>8</th>\n",
       "      <td>Ecology_2</td>\n",
       "      <td>0.000029</td>\n",
       "    </tr>\n",
       "  </tbody>\n",
       "</table>\n",
       "</div>"
      ],
      "text/plain": [
       "                   feature_name  importance\n",
       "24                   Square_log    0.189753\n",
       "2                    LifeSquare    0.164808\n",
       "1                         Rooms    0.118373\n",
       "11                     Social_1    0.070816\n",
       "12                     Social_2    0.068701\n",
       "13                     Social_3    0.068059\n",
       "0                    DistrictId    0.051458\n",
       "7                     Ecology_1    0.037137\n",
       "23            MedPriceSQM_by_HA    0.032088\n",
       "3                 KitchenSquare    0.026289\n",
       "9                  Healthcare_1    0.025421\n",
       "17  median_room_square_by_DI_HY    0.019965\n",
       "19              LifeSquare_part    0.019858\n",
       "15                      Shops_1    0.019273\n",
       "5                    HouseFloor    0.018267\n",
       "22      MedPriceSQM_ByFloorYear    0.016524\n",
       "6                     HouseYear    0.011470\n",
       "20                    House_age    0.011431\n",
       "4                         Floor    0.010080\n",
       "14                  Helthcare_2    0.009539\n",
       "21               House_year_cat    0.005351\n",
       "18          LifeSquare_restored    0.004424\n",
       "16                      Shops_2    0.000733\n",
       "10                    Ecology_3    0.000153\n",
       "8                     Ecology_2    0.000029"
      ]
     },
     "execution_count": 72,
     "metadata": {},
     "output_type": "execute_result"
    }
   ],
   "source": [
    "feature_importances = pd.DataFrame(zip(X_train_for_model.columns,model.feature_importances_), columns=['feature_name', 'importance'])\n",
    "feature_importances.sort_values(by='importance', ascending=False)"
   ]
  },
  {
   "cell_type": "code",
   "execution_count": 73,
   "id": "01f2f1a3",
   "metadata": {},
   "outputs": [],
   "source": [
    "# Итого\n",
    "# экспериментировал с глубиной дерева после глубины выше 7 расетет переобучение, \n",
    "# результат на валидационнм датасете не увеличивается\n",
    "# перепробовал разные модели и экспериментировал с регрессионными моделями (естественно делал масштабирование признаков) \n",
    "# результат примерно одинаковый.\n",
    "# признак median_PriceSQM_by_DI_HY является для модели самым значимым, после его исключения качество предсказания сильно падает.\n",
    "# Скорее всего нужно двигаться в направлении генерации признаков связанных с таргетом, которые бы помогали модели предсказывать\n",
    "# целевую переменную.\n",
    "\n",
    "\n",
    "#from sklearn.linear_model import LinearRegression\n",
    "\n",
    "#lr = LinearRegression()\n",
    "#gb = GradientBoostingRegressor()\n",
    "\n",
    "#stack = StackingRegressor([('lr', lr), ('rf', rf_model)], final_estimator=gb)"
   ]
  },
  {
   "cell_type": "code",
   "execution_count": 74,
   "id": "cc5ddbb3",
   "metadata": {},
   "outputs": [
    {
     "data": {
      "text/plain": [
       "78.125"
      ]
     },
     "execution_count": 74,
     "metadata": {},
     "output_type": "execute_result"
    }
   ],
   "source": [
    "5000/2**6"
   ]
  },
  {
   "cell_type": "code",
   "execution_count": 75,
   "id": "beb4ab23",
   "metadata": {},
   "outputs": [],
   "source": [
    "#stack.fit(X_train, y_train_sqm)"
   ]
  },
  {
   "cell_type": "code",
   "execution_count": 76,
   "id": "52c954b9",
   "metadata": {},
   "outputs": [],
   "source": [
    "#y_train_sqm_preds = stack.predict(X_train)"
   ]
  },
  {
   "cell_type": "code",
   "execution_count": 77,
   "id": "b63a7251",
   "metadata": {},
   "outputs": [],
   "source": [
    "#y_test_sqm_preds = stack.predict(X_valid)"
   ]
  },
  {
   "cell_type": "code",
   "execution_count": 78,
   "id": "d318a7d3",
   "metadata": {},
   "outputs": [],
   "source": [
    "#evaluate_preds(y_train_sqm, y_train_sqm_preds, y_valid_sqm, y_test_sqm_preds)"
   ]
  },
  {
   "cell_type": "markdown",
   "id": "ef1877df",
   "metadata": {},
   "source": [
    "## Прогнозирование на тестовом датасете"
   ]
  },
  {
   "cell_type": "code",
   "execution_count": 79,
   "id": "442a8087",
   "metadata": {},
   "outputs": [
    {
     "data": {
      "text/plain": [
       "(5000, 25)"
      ]
     },
     "execution_count": 79,
     "metadata": {},
     "output_type": "execute_result"
    }
   ],
   "source": [
    "df_test_for_model.shape"
   ]
  },
  {
   "cell_type": "code",
   "execution_count": 80,
   "id": "1e216d86",
   "metadata": {},
   "outputs": [
    {
     "data": {
      "text/html": [
       "<div>\n",
       "<style scoped>\n",
       "    .dataframe tbody tr th:only-of-type {\n",
       "        vertical-align: middle;\n",
       "    }\n",
       "\n",
       "    .dataframe tbody tr th {\n",
       "        vertical-align: top;\n",
       "    }\n",
       "\n",
       "    .dataframe thead th {\n",
       "        text-align: right;\n",
       "    }\n",
       "</style>\n",
       "<table border=\"1\" class=\"dataframe\">\n",
       "  <thead>\n",
       "    <tr style=\"text-align: right;\">\n",
       "      <th></th>\n",
       "      <th>DistrictId</th>\n",
       "      <th>Rooms</th>\n",
       "      <th>LifeSquare</th>\n",
       "      <th>KitchenSquare</th>\n",
       "      <th>Floor</th>\n",
       "      <th>HouseFloor</th>\n",
       "      <th>HouseYear</th>\n",
       "      <th>Ecology_1</th>\n",
       "      <th>Ecology_2</th>\n",
       "      <th>Healthcare_1</th>\n",
       "      <th>...</th>\n",
       "      <th>Shops_1</th>\n",
       "      <th>Shops_2</th>\n",
       "      <th>median_room_square_by_DI_HY</th>\n",
       "      <th>LifeSquare_restored</th>\n",
       "      <th>LifeSquare_part</th>\n",
       "      <th>House_age</th>\n",
       "      <th>House_year_cat</th>\n",
       "      <th>MedPriceSQM_ByFloorYear</th>\n",
       "      <th>MedPriceSQM_by_HA</th>\n",
       "      <th>Square_log</th>\n",
       "    </tr>\n",
       "  </thead>\n",
       "  <tbody>\n",
       "    <tr>\n",
       "      <th>count</th>\n",
       "      <td>5000.000000</td>\n",
       "      <td>5000.000000</td>\n",
       "      <td>5000.000000</td>\n",
       "      <td>5000.000000</td>\n",
       "      <td>5000.000000</td>\n",
       "      <td>5000.000000</td>\n",
       "      <td>5000.000000</td>\n",
       "      <td>5000.000000</td>\n",
       "      <td>5000.000000</td>\n",
       "      <td>5000.000000</td>\n",
       "      <td>...</td>\n",
       "      <td>5000.000000</td>\n",
       "      <td>5000.000000</td>\n",
       "      <td>5000.000000</td>\n",
       "      <td>5000.000000</td>\n",
       "      <td>5000.000000</td>\n",
       "      <td>5000.000000</td>\n",
       "      <td>5000.000000</td>\n",
       "      <td>5000.000000</td>\n",
       "      <td>5000.000000</td>\n",
       "      <td>5000.000000</td>\n",
       "    </tr>\n",
       "    <tr>\n",
       "      <th>mean</th>\n",
       "      <td>51.279200</td>\n",
       "      <td>1.929600</td>\n",
       "      <td>33.349018</td>\n",
       "      <td>6.254600</td>\n",
       "      <td>7.529000</td>\n",
       "      <td>12.941600</td>\n",
       "      <td>1984.392600</td>\n",
       "      <td>0.119874</td>\n",
       "      <td>0.990400</td>\n",
       "      <td>997.997200</td>\n",
       "      <td>...</td>\n",
       "      <td>4.242800</td>\n",
       "      <td>0.917600</td>\n",
       "      <td>31.076334</td>\n",
       "      <td>0.370000</td>\n",
       "      <td>0.595910</td>\n",
       "      <td>36.607400</td>\n",
       "      <td>4.579200</td>\n",
       "      <td>3824.971881</td>\n",
       "      <td>3774.121718</td>\n",
       "      <td>3.983942</td>\n",
       "    </tr>\n",
       "    <tr>\n",
       "      <th>std</th>\n",
       "      <td>44.179466</td>\n",
       "      <td>0.802479</td>\n",
       "      <td>11.055982</td>\n",
       "      <td>2.781893</td>\n",
       "      <td>5.163186</td>\n",
       "      <td>6.466881</td>\n",
       "      <td>18.573149</td>\n",
       "      <td>0.120070</td>\n",
       "      <td>0.097518</td>\n",
       "      <td>1008.557242</td>\n",
       "      <td>...</td>\n",
       "      <td>4.777365</td>\n",
       "      <td>0.275001</td>\n",
       "      <td>6.958505</td>\n",
       "      <td>0.482853</td>\n",
       "      <td>0.075593</td>\n",
       "      <td>18.573149</td>\n",
       "      <td>1.464157</td>\n",
       "      <td>549.871257</td>\n",
       "      <td>766.160685</td>\n",
       "      <td>0.312798</td>\n",
       "    </tr>\n",
       "    <tr>\n",
       "      <th>min</th>\n",
       "      <td>0.000000</td>\n",
       "      <td>1.000000</td>\n",
       "      <td>9.495367</td>\n",
       "      <td>3.000000</td>\n",
       "      <td>1.000000</td>\n",
       "      <td>1.000000</td>\n",
       "      <td>1908.000000</td>\n",
       "      <td>0.000000</td>\n",
       "      <td>0.000000</td>\n",
       "      <td>0.000000</td>\n",
       "      <td>...</td>\n",
       "      <td>0.000000</td>\n",
       "      <td>0.000000</td>\n",
       "      <td>16.460000</td>\n",
       "      <td>0.000000</td>\n",
       "      <td>0.400000</td>\n",
       "      <td>1.000000</td>\n",
       "      <td>0.000000</td>\n",
       "      <td>2839.563468</td>\n",
       "      <td>2822.754331</td>\n",
       "      <td>2.792331</td>\n",
       "    </tr>\n",
       "    <tr>\n",
       "      <th>25%</th>\n",
       "      <td>21.000000</td>\n",
       "      <td>1.000000</td>\n",
       "      <td>25.360607</td>\n",
       "      <td>3.000000</td>\n",
       "      <td>4.000000</td>\n",
       "      <td>9.000000</td>\n",
       "      <td>1973.000000</td>\n",
       "      <td>0.019509</td>\n",
       "      <td>1.000000</td>\n",
       "      <td>145.000000</td>\n",
       "      <td>...</td>\n",
       "      <td>1.000000</td>\n",
       "      <td>1.000000</td>\n",
       "      <td>26.340000</td>\n",
       "      <td>0.000000</td>\n",
       "      <td>0.560000</td>\n",
       "      <td>21.000000</td>\n",
       "      <td>4.000000</td>\n",
       "      <td>3209.982179</td>\n",
       "      <td>2898.891745</td>\n",
       "      <td>3.735582</td>\n",
       "    </tr>\n",
       "    <tr>\n",
       "      <th>50%</th>\n",
       "      <td>37.000000</td>\n",
       "      <td>2.000000</td>\n",
       "      <td>32.136311</td>\n",
       "      <td>6.000000</td>\n",
       "      <td>6.000000</td>\n",
       "      <td>13.000000</td>\n",
       "      <td>1977.000000</td>\n",
       "      <td>0.072158</td>\n",
       "      <td>1.000000</td>\n",
       "      <td>750.000000</td>\n",
       "      <td>...</td>\n",
       "      <td>3.000000</td>\n",
       "      <td>1.000000</td>\n",
       "      <td>31.765000</td>\n",
       "      <td>0.000000</td>\n",
       "      <td>0.590000</td>\n",
       "      <td>44.000000</td>\n",
       "      <td>4.000000</td>\n",
       "      <td>4014.712071</td>\n",
       "      <td>4214.469102</td>\n",
       "      <td>3.968875</td>\n",
       "    </tr>\n",
       "    <tr>\n",
       "      <th>75%</th>\n",
       "      <td>77.000000</td>\n",
       "      <td>2.000000</td>\n",
       "      <td>38.326060</td>\n",
       "      <td>8.000000</td>\n",
       "      <td>11.000000</td>\n",
       "      <td>17.000000</td>\n",
       "      <td>2000.000000</td>\n",
       "      <td>0.195781</td>\n",
       "      <td>1.000000</td>\n",
       "      <td>1547.000000</td>\n",
       "      <td>...</td>\n",
       "      <td>6.000000</td>\n",
       "      <td>1.000000</td>\n",
       "      <td>33.910000</td>\n",
       "      <td>1.000000</td>\n",
       "      <td>0.660000</td>\n",
       "      <td>48.000000</td>\n",
       "      <td>6.000000</td>\n",
       "      <td>4155.148533</td>\n",
       "      <td>4394.917174</td>\n",
       "      <td>4.193966</td>\n",
       "    </tr>\n",
       "    <tr>\n",
       "      <th>max</th>\n",
       "      <td>212.000000</td>\n",
       "      <td>6.000000</td>\n",
       "      <td>197.432616</td>\n",
       "      <td>13.000000</td>\n",
       "      <td>46.000000</td>\n",
       "      <td>99.000000</td>\n",
       "      <td>2020.000000</td>\n",
       "      <td>0.521867</td>\n",
       "      <td>1.000000</td>\n",
       "      <td>4849.000000</td>\n",
       "      <td>...</td>\n",
       "      <td>23.000000</td>\n",
       "      <td>1.000000</td>\n",
       "      <td>168.090000</td>\n",
       "      <td>1.000000</td>\n",
       "      <td>0.880000</td>\n",
       "      <td>113.000000</td>\n",
       "      <td>7.000000</td>\n",
       "      <td>6766.013241</td>\n",
       "      <td>9377.231202</td>\n",
       "      <td>5.409204</td>\n",
       "    </tr>\n",
       "  </tbody>\n",
       "</table>\n",
       "<p>8 rows × 25 columns</p>\n",
       "</div>"
      ],
      "text/plain": [
       "        DistrictId        Rooms   LifeSquare  KitchenSquare        Floor  \\\n",
       "count  5000.000000  5000.000000  5000.000000    5000.000000  5000.000000   \n",
       "mean     51.279200     1.929600    33.349018       6.254600     7.529000   \n",
       "std      44.179466     0.802479    11.055982       2.781893     5.163186   \n",
       "min       0.000000     1.000000     9.495367       3.000000     1.000000   \n",
       "25%      21.000000     1.000000    25.360607       3.000000     4.000000   \n",
       "50%      37.000000     2.000000    32.136311       6.000000     6.000000   \n",
       "75%      77.000000     2.000000    38.326060       8.000000    11.000000   \n",
       "max     212.000000     6.000000   197.432616      13.000000    46.000000   \n",
       "\n",
       "        HouseFloor    HouseYear    Ecology_1    Ecology_2  Healthcare_1  ...  \\\n",
       "count  5000.000000  5000.000000  5000.000000  5000.000000   5000.000000  ...   \n",
       "mean     12.941600  1984.392600     0.119874     0.990400    997.997200  ...   \n",
       "std       6.466881    18.573149     0.120070     0.097518   1008.557242  ...   \n",
       "min       1.000000  1908.000000     0.000000     0.000000      0.000000  ...   \n",
       "25%       9.000000  1973.000000     0.019509     1.000000    145.000000  ...   \n",
       "50%      13.000000  1977.000000     0.072158     1.000000    750.000000  ...   \n",
       "75%      17.000000  2000.000000     0.195781     1.000000   1547.000000  ...   \n",
       "max      99.000000  2020.000000     0.521867     1.000000   4849.000000  ...   \n",
       "\n",
       "           Shops_1      Shops_2  median_room_square_by_DI_HY  \\\n",
       "count  5000.000000  5000.000000                  5000.000000   \n",
       "mean      4.242800     0.917600                    31.076334   \n",
       "std       4.777365     0.275001                     6.958505   \n",
       "min       0.000000     0.000000                    16.460000   \n",
       "25%       1.000000     1.000000                    26.340000   \n",
       "50%       3.000000     1.000000                    31.765000   \n",
       "75%       6.000000     1.000000                    33.910000   \n",
       "max      23.000000     1.000000                   168.090000   \n",
       "\n",
       "       LifeSquare_restored  LifeSquare_part    House_age  House_year_cat  \\\n",
       "count          5000.000000      5000.000000  5000.000000     5000.000000   \n",
       "mean              0.370000         0.595910    36.607400        4.579200   \n",
       "std               0.482853         0.075593    18.573149        1.464157   \n",
       "min               0.000000         0.400000     1.000000        0.000000   \n",
       "25%               0.000000         0.560000    21.000000        4.000000   \n",
       "50%               0.000000         0.590000    44.000000        4.000000   \n",
       "75%               1.000000         0.660000    48.000000        6.000000   \n",
       "max               1.000000         0.880000   113.000000        7.000000   \n",
       "\n",
       "       MedPriceSQM_ByFloorYear  MedPriceSQM_by_HA   Square_log  \n",
       "count              5000.000000        5000.000000  5000.000000  \n",
       "mean               3824.971881        3774.121718     3.983942  \n",
       "std                 549.871257         766.160685     0.312798  \n",
       "min                2839.563468        2822.754331     2.792331  \n",
       "25%                3209.982179        2898.891745     3.735582  \n",
       "50%                4014.712071        4214.469102     3.968875  \n",
       "75%                4155.148533        4394.917174     4.193966  \n",
       "max                6766.013241        9377.231202     5.409204  \n",
       "\n",
       "[8 rows x 25 columns]"
      ]
     },
     "execution_count": 80,
     "metadata": {},
     "output_type": "execute_result"
    }
   ],
   "source": [
    "df_test_for_model.describe()"
   ]
  },
  {
   "cell_type": "code",
   "execution_count": 81,
   "id": "bf097a79",
   "metadata": {},
   "outputs": [],
   "source": [
    "#prediction_sqm = rf_model.predict(df_test_for_model)\n",
    "prediction = model.predict(df_test_for_model)"
   ]
  },
  {
   "cell_type": "code",
   "execution_count": 82,
   "id": "964cf8e0",
   "metadata": {},
   "outputs": [
    {
     "data": {
      "text/plain": [
       "array([176346.69054527, 124963.12634925, 140577.34496164, ...,\n",
       "       156294.0747107 , 193599.89675132, 284037.59743111])"
      ]
     },
     "execution_count": 82,
     "metadata": {},
     "output_type": "execute_result"
    }
   ],
   "source": [
    "prediction"
   ]
  },
  {
   "cell_type": "code",
   "execution_count": 83,
   "id": "537f45ce",
   "metadata": {},
   "outputs": [],
   "source": [
    "#prediction = prediction_sqm * df_test_for_model['Square'].values"
   ]
  },
  {
   "cell_type": "code",
   "execution_count": 84,
   "id": "2e0a1937",
   "metadata": {},
   "outputs": [],
   "source": [
    "submit = pd.read_csv(DS_SUBMIT_SAMPLE_PATH)"
   ]
  },
  {
   "cell_type": "code",
   "execution_count": 85,
   "id": "790d7cf9",
   "metadata": {},
   "outputs": [
    {
     "data": {
      "text/html": [
       "<div>\n",
       "<style scoped>\n",
       "    .dataframe tbody tr th:only-of-type {\n",
       "        vertical-align: middle;\n",
       "    }\n",
       "\n",
       "    .dataframe tbody tr th {\n",
       "        vertical-align: top;\n",
       "    }\n",
       "\n",
       "    .dataframe thead th {\n",
       "        text-align: right;\n",
       "    }\n",
       "</style>\n",
       "<table border=\"1\" class=\"dataframe\">\n",
       "  <thead>\n",
       "    <tr style=\"text-align: right;\">\n",
       "      <th></th>\n",
       "      <th>Id</th>\n",
       "      <th>Price</th>\n",
       "    </tr>\n",
       "  </thead>\n",
       "  <tbody>\n",
       "    <tr>\n",
       "      <th>0</th>\n",
       "      <td>4567</td>\n",
       "      <td>176346.690545</td>\n",
       "    </tr>\n",
       "    <tr>\n",
       "      <th>1</th>\n",
       "      <td>5925</td>\n",
       "      <td>124963.126349</td>\n",
       "    </tr>\n",
       "    <tr>\n",
       "      <th>2</th>\n",
       "      <td>960</td>\n",
       "      <td>140577.344962</td>\n",
       "    </tr>\n",
       "    <tr>\n",
       "      <th>3</th>\n",
       "      <td>3848</td>\n",
       "      <td>114948.147309</td>\n",
       "    </tr>\n",
       "    <tr>\n",
       "      <th>4</th>\n",
       "      <td>746</td>\n",
       "      <td>207147.208233</td>\n",
       "    </tr>\n",
       "  </tbody>\n",
       "</table>\n",
       "</div>"
      ],
      "text/plain": [
       "     Id          Price\n",
       "0  4567  176346.690545\n",
       "1  5925  124963.126349\n",
       "2   960  140577.344962\n",
       "3  3848  114948.147309\n",
       "4   746  207147.208233"
      ]
     },
     "execution_count": 85,
     "metadata": {},
     "output_type": "execute_result"
    }
   ],
   "source": [
    "submit['Price'] = prediction\n",
    "submit.head()"
   ]
  },
  {
   "cell_type": "code",
   "execution_count": 86,
   "id": "1834c6fd",
   "metadata": {},
   "outputs": [],
   "source": [
    "submit.to_csv(DS_SUBMIT_PATH, index=False)"
   ]
  },
  {
   "cell_type": "code",
   "execution_count": 87,
   "id": "07892daf",
   "metadata": {},
   "outputs": [],
   "source": [
    "#plt.scatter(X_train['DistrictSize'], y_train_sqm.values)"
   ]
  },
  {
   "cell_type": "code",
   "execution_count": 88,
   "id": "2f590673",
   "metadata": {},
   "outputs": [],
   "source": [
    "#plt.scatter(X_train['DistrictLarge'], y_train_sqm.values)"
   ]
  },
  {
   "cell_type": "code",
   "execution_count": null,
   "id": "90a05498",
   "metadata": {},
   "outputs": [],
   "source": []
  }
 ],
 "metadata": {
  "kernelspec": {
   "display_name": "Python 3",
   "language": "python",
   "name": "python3"
  },
  "language_info": {
   "codemirror_mode": {
    "name": "ipython",
    "version": 3
   },
   "file_extension": ".py",
   "mimetype": "text/x-python",
   "name": "python",
   "nbconvert_exporter": "python",
   "pygments_lexer": "ipython3",
   "version": "3.9.2"
  }
 },
 "nbformat": 4,
 "nbformat_minor": 5
}
